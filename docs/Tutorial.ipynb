{
 "cells": [
  {
   "cell_type": "markdown",
   "metadata": {},
   "source": [
    "# SPTAG python wrapper tutorial \n",
    "\n",
    "To end-to-end build a vector search online service, it contains two steps:\n",
    "- Offline build SPTAG index for database vectors\n",
    "- Online serve the index to support vector search requests from the clients\n",
    "\n",
    "## Offline build SPTAG index\n",
    "\n",
    "> Prepare input vectors and metadatas for SPTAG"
   ]
  },
  {
   "cell_type": "code",
   "execution_count": 2,
   "metadata": {},
   "outputs": [],
   "source": [
    "import os\n",
    "import numpy as np\n",
    "\n",
    "vector_number = 100\n",
    "vector_dimension = 100\n",
    "\n",
    "# Randomly generate the database vectors. Currently SPTAG only support int8, int16 and float32 data type.\n",
    "x = np.random.rand(vector_number, vector_dimension).astype(np.float32) \n",
    "\n",
    "# Prepare metadata for each vectors, separate them by '\\n'. Currently SPTAG python wrapper only support '\\n' as the separator\n",
    "m = ''\n",
    "for i in range(vector_number):\n",
    "    m += str(i) + '\\n'"
   ]
  },
  {
   "cell_type": "markdown",
   "metadata": {},
   "source": [
    "> Build SPTAG index for database vectors **x**"
   ]
  },
  {
   "cell_type": "code",
   "execution_count": 3,
   "metadata": {},
   "outputs": [
    {
     "data": {
      "text/plain": [
       "['deletes.bin',\n",
       " 'graph.bin',\n",
       " 'indexloader.ini',\n",
       " 'metadata.bin',\n",
       " 'metadataIndex.bin',\n",
       " 'tree.bin',\n",
       " 'vectors.bin']"
      ]
     },
     "execution_count": 3,
     "metadata": {},
     "output_type": "execute_result"
    }
   ],
   "source": [
    "import SPTAG\n",
    "\n",
    "index = SPTAG.AnnIndex('BKT', 'Float', vector_dimension)\n",
    "\n",
    "# Set the thread number to speed up the build procedure in parallel \n",
    "index.SetBuildParam(\"NumberOfThreads\", '4', \"Index\")\n",
    "\n",
    "# Set the distance type. Currently SPTAG only support Cosine and L2 distances. Here Cosine distance is not the Cosine similarity. The smaller Cosine distance it is, the better.\n",
    "index.SetBuildParam(\"DistCalcMethod\", 'Cosine', \"Index\") \n",
    "\n",
    "if index.BuildWithMetaData(x, m, vector_number, False, False):\n",
    "    index.Save(\"sptag_index\") # Save the index to the disk\n",
    "\n",
    "os.listdir('sptag_index')"
   ]
  },
  {
   "cell_type": "code",
   "execution_count": 4,
   "metadata": {},
   "outputs": [
    {
     "name": "stdout",
     "output_type": "stream",
     "text": [
      "[84, 3, 37]\n",
      "[-3.7501039505004883, -3.6583847999572754, -3.6582584381103516]\n",
      "[b'84\\n', b'3\\n', b'37\\n']\n"
     ]
    }
   ],
   "source": [
    "# Local index test on the vector search\n",
    "index = SPTAG.AnnIndex.Load('sptag_index')\n",
    "\n",
    "# prepare query vector\n",
    "q = np.random.rand(vector_dimension).astype(np.float32)\n",
    "\n",
    "result = index.SearchWithMetaData(q, 3) # Search k=3 nearest vectors for query vector q\n",
    "print (result[0]) # nearest k vector ids\n",
    "print (result[1]) # nearest k vector distances\n",
    "print (result[2]) # nearest k vector metadatas"
   ]
  },
  {
   "cell_type": "markdown",
   "metadata": {},
   "source": [
    "> Build SPTAG index for database vector **x** with PQ quantization"
   ]
  },
  {
   "cell_type": "code",
   "execution_count": 5,
   "metadata": {},
   "outputs": [
    {
     "name": "stdout",
     "output_type": "stream",
     "text": [
      "b'[1] Using AVX2 InstructionSet!\\r\\n[1] Normalizing vectors.\\r\\n[1] Quantizer Does not exist. Training a new one.\\r\\n[1] Begin Training Quantizer Codebooks.\\r\\n[1] [1] Training Codebook 22.\\r\\nTraining Codebook 26.\\r\\n[1] Training Codebook 5.\\r\\n[1] Training Codebook 0.\\r\\n[1] Training Codebook 14.\\r\\n[1] Training Codebook 30.\\r\\n[1] Training Codebook 18.\\r\\n[1] Training Codebook 42.\\r\\n[1] Training Codebook 10.\\r\\n[1] Training Codebook 46.\\r\\n[1] Training Codebook 34.\\r\\n[1] Training Codebook 38.\\r\\n[1] Lambda:min(inf,2.68353e-08) Max:1 Min:0 Avg:0.390625 Std/Avg:1.249000 Dist:0.000000 NonZero/Total:100/256\\r\\n1\\t1\\t1\\t1\\t1\\t1\\t1\\t1\\t0\\t0\\t0\\t0\\t0\\t0\\t0\\t0\\t0\\t0\\t0\\t0\\t0\\t1\\t1\\t1\\t0\\t1\\t0\\t0\\t0\\t0\\t1\\t0\\t1\\t0\\t1\\t0\\t0\\t1\\t0\\t0\\t1\\t1\\t0\\t0\\t0\\t0\\t0\\t0\\t1\\t0\\t0\\t0\\t0\\t0\\t1\\t0\\t1\\t0\\t1\\t0\\t0\\t1\\t0\\t1\\t0\\t0\\t1\\t0\\t1\\t0\\t1\\t0\\t1\\t1\\t0\\t0\\t0\\t0\\t0\\t0\\t0\\t0\\t0\\t1\\t1\\t0\\t0\\t0\\t1\\t0\\t0\\t0\\t1\\t1\\t1\\t0\\t1\\t0\\t0\\t0\\t0\\t1\\t1\\t0\\t0\\t0\\t0\\t0\\t1\\t1\\t1\\t0\\t1\\t1\\t0\\t0\\t1\\t1\\t1\\t1\\t1\\t0\\t0\\t0\\t1\\t0\\t0\\t1\\t0\\t0\\t0\\t1\\t1\\t1\\t0\\t0\\t1\\t0\\t0\\t1\\t0\\t0\\t0\\t1\\t1\\t0\\t0\\t0\\t1\\t1\\t0\\t1\\t0\\t1\\t0\\t1\\t1\\t1\\t0\\t0\\t0\\t1\\t1\\t1\\t0\\t0\\t0\\t1\\t0\\t0\\t1\\t1\\t0\\t0\\t0\\t1\\t1\\t0\\t0\\t0\\t0\\t0\\t1\\t0\\t0\\t0\\t1\\t1\\t0\\t0\\t1\\t1\\t0\\t0\\t1\\t0\\t0\\t0\\t1\\t0\\t1\\t0\\t1\\t0\\t1\\t0\\t1\\t1\\t0\\t1\\t1\\t1\\t0\\t0\\t1\\t0\\t0\\t1\\t0\\t0\\t1\\t0\\t0\\t0\\t0\\t1\\t0\\t0\\t0\\t1\\t0\\t0\\t0\\t0\\t1\\t0\\t0\\t1\\t0\\t0\\t1\\t0\\t1\\t0\\t0\\t0\\t1\\t0\\t0\\t1\\t1\\t0\\t0\\t0\\t0\\t1\\t[1] Lambda:min(inf,3.97847e-07) Max:1 Min:0 Avg:0.390625 Std/Avg:1.249000 Dist:0.000000 NonZero/Total:100/256\\r\\n1\\t1\\t1\\t1\\t1\\t1\\t1\\t0\\t0\\t0\\t0\\t0\\t0\\t0\\t0\\t0\\t0\\t0\\t0\\t0\\t0\\t1\\t1\\t1\\t0\\t1\\t0\\t0\\t0\\t0\\t1\\t0\\t1\\t0\\t1\\t0\\t0\\t1\\t0\\t0\\t1\\t1\\t0\\t0\\t0\\t0\\t0\\t0\\t1\\t0\\t0\\t0\\t0\\t0\\t1\\t0\\t1\\t0\\t1\\t0\\t0\\t1\\t0\\t1\\t0\\t0\\t1\\t0\\t1\\t0\\t1\\t0\\t1\\t1\\t0\\t0\\t0\\t0\\t0\\t0\\t0\\t0\\t1\\t1\\t1\\t0\\t0\\t0\\t1\\t0\\t0\\t0\\t1\\t1\\t1\\t0\\t1\\t0\\t0\\t0\\t0\\t1\\t1\\t0\\t0\\t0\\t0\\t0\\t1\\t1\\t1\\t0\\t1\\t1\\t0\\t0\\t1\\t1\\t1\\t1\\t1\\t0\\t0\\t0\\t1\\t0\\t0\\t1\\t0\\t0\\t0\\t1\\t1\\t1\\t0\\t0\\t1\\t0\\t0\\t1\\t0\\t0\\t0\\t1\\t1\\t0\\t0\\t0\\t1\\t1\\t0\\t1\\t0\\t1\\t0\\t1\\t1\\t1\\t0\\t0\\t0\\t1\\t1\\t1\\t0\\t0\\t0\\t1\\t0\\t0\\t1\\t1\\t0\\t0\\t0\\t1\\t1\\t0\\t0\\t0\\t0\\t0\\t1\\t0\\t0\\t0\\t1\\t1\\t0\\t0\\t1\\t1\\t0\\t0\\t1\\t0\\t0\\t0\\t1\\t0\\t1\\t0\\t1\\t0\\t1\\t0\\t1\\t1\\t0\\t1\\t1\\t1\\t0\\t0\\t1\\t0\\t0\\t1\\t0\\t0\\t0\\t0\\t0\\t0\\t0\\t1\\t0\\t0\\t0\\t1\\t0\\t0\\t0\\t0\\t1\\t0\\t0\\t1\\t0\\t0\\t1\\t0\\t1\\t0\\t0\\t0\\t1\\t0\\t0\\t1\\t1\\t0\\t0\\t0\\t1\\t1\\t[1] Lambda:min(inf,9.51836e-08) Max:1 Min:0 Avg:0.390625 Std/Avg:1.249000 Dist:0.000000 NonZero/Total:100/256\\r\\n1\\t1\\t1\\t1\\t1\\t1\\t1\\t1\\t0\\t0\\t0\\t0\\t1\\t0\\t0\\t0\\t0\\t0\\t0\\t0\\t0\\t1\\t0\\t1\\t0\\t0\\t0\\t0\\t0\\t1\\t1\\t0\\t0\\t1\\t0\\t0\\t1\\t1\\t1\\t1\\t0\\t0\\t1\\t0\\t1\\t1\\t0\\t0\\t1\\t0\\t1\\t0\\t0\\t1\\t0\\t0\\t1\\t0\\t1\\t0\\t1\\t1\\t1\\t1\\t0\\t1\\t0\\t1\\t1\\t0\\t0\\t1\\t1\\t1\\t1\\t1\\t1\\t0\\t0\\t0\\t0\\t1\\t0\\t0\\t1\\t1\\t0\\t0\\t0\\t0\\t0\\t1\\t0\\t0\\t0\\t0\\t0\\t0\\t1\\t0\\t0\\t1\\t0\\t0\\t0\\t0\\t1\\t0\\t0\\t0\\t1\\t1\\t1\\t0\\t1\\t1\\t1\\t1\\t0\\t1\\t1\\t1\\t0\\t1\\t1\\t1\\t0\\t0\\t0\\t0\\t1\\t1\\t0\\t1\\t0\\t1\\t0\\t1\\t0\\t1\\t0\\t0\\t0\\t0\\t0\\t0\\t0\\t1\\t0\\t0\\t0\\t0\\t0\\t1\\t0\\t1\\t1\\t0\\t0\\t0\\t0\\t0\\t0\\t0\\t1\\t0\\t0\\t1\\t0\\t0\\t1\\t0\\t1\\t0\\t0\\t0\\t0\\t1\\t0\\t0\\t1\\t0\\t0\\t1\\t0\\t1\\t1\\t1\\t0\\t1\\t0\\t0\\t0\\t0\\t1\\t1\\t0\\t0\\t0\\t0\\t1\\t1\\t0\\t0\\t1\\t0\\t0\\t1\\t0\\t0\\t0\\t1\\t0\\t0\\t0\\t0\\t0\\t0\\t0\\t0\\t1\\t1\\t0\\t0\\t1\\t1\\t1\\t0\\t0\\t0\\t0\\t0\\t1\\t1\\t0\\t0\\t0\\t0\\t0\\t0\\t0\\t0\\t1\\t1\\t1\\t0\\t0\\t0\\t0\\t0\\t1\\t1\\t0\\t1\\t0\\t0\\t\\r\\n[1] Training Codebook 11.\\r\\n[1] Lambda:min(inf,3.64467e-07) Max:1 Min:0 Avg:0.390625 Std/Avg:1.249000 Dist:0.000000 NonZero/Total:100/256\\r\\n1\\t1\\t1\\t1\\t1\\t1\\t1\\t1\\t0\\t0\\t0\\t0\\t0\\t0\\t0\\t0\\t0\\t0\\t0\\t0\\t0\\t1\\t1\\t1\\t0\\t1\\t0\\t0\\t0\\t0\\t0\\t0\\t1\\t0\\t1\\t0\\t0\\t1\\t0\\t0\\t1\\t1\\t0\\t0\\t0\\t0\\t0\\t0\\t1\\t0\\t0\\t0\\t0\\t0\\t1\\t0\\t1\\t0\\t1\\t0\\t0\\t1\\t0\\t1\\t0\\t0\\t1\\t0\\t1\\t0\\t1\\t0\\t1\\t1\\t0\\t0\\t0\\t0\\t0\\t0\\t0\\t0\\t1\\t1\\t1\\t0\\t0\\t0\\t1\\t0\\t0\\t0\\t1\\t1\\t1\\t0\\t1\\t0\\t0\\t0\\t0\\t1\\t1\\t0\\t0\\t0\\t0\\t0\\t1\\t1\\t1\\t0\\t1\\t1\\t0\\t0\\t1\\t1\\t1\\t1\\t1\\t0\\t0\\t0\\t1\\t0\\t0\\t1\\t0\\t0\\t0\\t1\\t1\\t1\\t0\\t0\\t1\\t0\\t0\\t1\\t0\\t0\\t0\\t1\\t1\\t0\\t0\\t0\\t1\\t1\\t0\\t1\\t0\\t1\\t0\\t1\\t1\\t1\\t0\\t0\\t0\\t1\\t1\\t1\\t0\\t0\\t0\\t1\\t0\\t0\\t1\\t1\\t0\\t0\\t0\\t1\\t1\\t0\\t0\\t0\\t0\\t0\\t1\\t0\\t0\\t0\\t1\\t1\\t0\\t0\\t1\\t1\\t0\\t0\\t1\\t0\\t0\\t0\\t1\\t0\\t1\\t0\\t1\\t0\\t1\\t0\\t1\\t1\\t0\\t1\\t1\\t1\\t0\\t0\\t1\\t0\\t0\\t1\\t0\\t0\\t1\\t0\\t0\\t0\\t0\\t1\\t0\\t0\\t0\\t1\\t0\\t0\\t0\\t0\\t1\\t0\\t0\\t1\\t0\\t0\\t1\\t0\\t1\\t0\\t0\\t0\\t1\\t0\\t0\\t1\\t0\\t0\\t0\\t0\\t1\\t1\\t\\r\\n[1] Training Codebook 19.\\r\\n[1] Lambda:min(inf,2.19996e-07) Max:1 Min:0 Avg:0.390625 Std/Avg:1.249000 Dist:0.000000 NonZero/Total:100/256\\r\\n1\\t1\\t1\\t1\\t1\\t1\\t1\\t0\\t0\\t0\\t0\\t0\\t0\\t0\\t0\\t0\\t0\\t0\\t0\\t0\\t0\\t1\\t1\\t1\\t0\\t1\\t0\\t0\\t0\\t0\\t1\\t0\\t1\\t0\\t1\\t0\\t0\\t1\\t0\\t0\\t1\\t1\\t0\\t0\\t0\\t0\\t0\\t0\\t1\\t0\\t0\\t0\\t0\\t0\\t1\\t0\\t1\\t0\\t1\\t0\\t0\\t1\\t0\\t1\\t0\\t0\\t1\\t0\\t1\\t0\\t1\\t0\\t1\\t1\\t0\\t0\\t0\\t0\\t0\\t0\\t0\\t0\\t1\\t1\\t1\\t0\\t0\\t0\\t1\\t0\\t0\\t0\\t1\\t1\\t1\\t0\\t1\\t0\\t0\\t0\\t0\\t1\\t1\\t0\\t0\\t0\\t0\\t0\\t1\\t1\\t1\\t0\\t1\\t1\\t0\\t0\\t1\\t1\\t1\\t1\\t1\\t0\\t0\\t0\\t1\\t0\\t0\\t1\\t0\\t0\\t0\\t1\\t1\\t1\\t0\\t0\\t1\\t0\\t0\\t1\\t0\\t0\\t0\\t1\\t1\\t0\\t0\\t0\\t1\\t1\\t0\\t1\\t0\\t1\\t0\\t1\\t1\\t1\\t0\\t0\\t0\\t1\\t1\\t1\\t0\\t0\\t0\\t1\\t0\\t0\\t1\\t1\\t0\\t0\\t0\\t1\\t0\\t0\\t0\\t0\\t0\\t0\\t1\\t0\\t0\\t0\\t1\\t1\\t0\\t0\\t1\\t1\\t0\\t0\\t1\\t0\\t0\\t0\\t1\\t0\\t1\\t0\\t1\\t0\\t1\\t0\\t1\\t1\\t0\\t1\\t1\\t1\\t0\\t0\\t1\\t0\\t0\\t1\\t0\\t0\\t1\\t0\\t0\\t0\\t0\\t1\\t0\\t0\\t0\\t1\\t0\\t0\\t0\\t0\\t1\\t0\\t0\\t1\\t0\\t0\\t1\\t0\\t1\\t0\\t0\\t0\\t1\\t0\\t0\\t1\\t1\\t0\\t0\\t0\\t1\\t1\\t[1] \\r\\nLambda:min(inf,2.80468e-07) Max:1 Min:0 Avg:0.390625 Std/Avg:1.249000 Dist:0.000000 NonZero/Total:100/256\\r\\n1\\t1\\t1\\t1\\t1\\t1\\t1\\t0\\t0\\t0\\t0\\t0\\t0\\t0\\t0\\t0\\t0\\t0\\t0\\t0\\t0\\t1\\t1\\t1\\t0\\t1\\t0\\t0\\t0\\t0\\t1\\t0\\t[1] 1\\t0\\t1\\t0\\t0\\t1\\t0\\t0\\t1\\t1\\t0\\t[1] Lambda:min(inf,1.29696e-06) Max:2 Min:0 Avg:0.390625 Std/Avg:1.289341 Dist:0.000002 NonZero/Total:98/256\\r\\n[1] Lambda:min(inf,1.41229e-07) Max:2 Min:0 Avg:0.390625 Std/Avg:1.269331 Dist:0.000002 NonZero/Total:99/256\\r\\n10\\t1\\t1\\t1\\t1\\t1\\t0\\t0\\t0\\t0\\t0\\t0\\t0\\t0\\t0\\t\\t01\\t1\\t1\\t1\\t1\\t1\\t0\\t0\\t0\\t0\\t0\\t0\\t0\\t0\\t0\\t1\\t1\\t1\\t0\\t1\\t\\t0\\t0\\t0\\t0\\t00\\t0\\t1\\t0\\t1\\t0\\t1\\t0\\t0\\t1\\t0\\t0\\t1\\t1\\t0\\t0\\t0\\t0\\t0\\t0Training Codebook 27.\\r\\n\\t[1] 0\\t0\\t0\\tLambda:min(inf,2.80611e-07) Max:2 Min:0 Avg:0.390625 Std/Avg:1.269331 Dist:0.000002 NonZero/Total:99/256\\r\\n1\\t1\\t1\\t1\\t1\\t1\\t0\\t0\\t0\\t0\\t0\\t0\\t0\\t0\\t0\\t0\\t0\\t0\\t0\\t\\t0\\t0\\t1\\t1\\t1\\t0\\t1\\t0\\t0\\t0\\t0\\t1\\t0\\t1\\t0\\t1\\t0\\t0\\t1\\t0\\t0\\t1\\t1\\t0\\t0\\t0\\t0\\t0\\t0\\t10\\t0\\t0\\t0\\t0\\t0\\t1\\t0\\t1\\t0\\t1\\t0\\t0\\t1\\t0\\t1\\t\\t0\\t0\\t0\\t0\\t1\\t1\\t1\\t000\\t0\\t1\\t0\\t1\\t0\\t1\\t0\\t0\\t1\\t0\\t0\\t0\\t0\\t0\\t10\\t\\t\\t0\\t1\\t0\\t1\\t0\\t0\\t1\\t0\\t1\\t0\\t0\\t01\\t\\t0\\t1\\t1\\t\\t0\\t01\\t0\\t1\\t0\\t0\\t00\\t0\\t0\\t1\\t0\\t1\\t0\\t1\\t0\\t0\\t\\t\\t0\\t1\\t0\\t1\\t1\\t0\\t0\\t0\\t0\\t0\\t0\\t0\\t0\\t1\\t1\\t1\\t0\\t0\\t0\\t1\\t0\\t0\\t0\\t1\\t11\\t0\\t0\\t1\\t1\\t0\\t0\\t0\\t0\\t0\\t0\\t1\\t0\\t0\\t0\\t01\\t0\\t1\\t0\\t1\\t0\\t1\\t0\\t0\\t1\\t0\\t1\\t0\\t0\\t1\\t0\\t1\\t0\\t1\\t0\\t1\\t1\\t0\\t0\\t0\\t0\\t0\\t0\\t0\\t0\\t11\\t1\\t1\\t0\\t0\\t0\\t1\\t0\\t0\\t0\\t1\\t1\\t1\\t0\\t1\\t0\\t0\\t0\\t0\\t1\\t1\\t0\\t0\\t0\\t0\\t0\\t1\\t1\\t2\\t0\\t1\\t\\t1\\t0\\t0\\t1\\t1\\t1\\t1\\t1\\t0\\t0\\t0\\t1\\t0\\t0\\t1\\t0\\t0\\t0\\t1\\t1\\t1\\t0\\t0\\t\\t\\t1\\t1\\t0\\t0\\t1\\t0\\t0\\t0\\t1\\t1\\t0\\t0\\t0\\t1\\t1\\t0\\t1\\t0\\t1\\t0\\t1\\t10\\t1\\t0\\t0\\t0\\t1\\t1\\t1\\t0\\t0\\t0\\t1\\t0\\t0\\t1\\t1\\t0\\t0\\t0\\t1\\t1\\t0\\t0\\t0\\t0\\t0\\t1\\t0\\t0\\t0\\t01\\t1\\t0\\t0\\t1\\t1\\t0\\t0\\t1\\t0\\t0\\t0\\t1\\t0\\t1\\t0\\t1\\t0\\t1\\t0\\t1\\t1\\t0\\t1\\t1\\t1\\t0\\t0\\t1\\t1\\t0\\t1\\t\\t0\\t0\\t0\\t0\\t0\\t1\\t0\\t0\\t0\\t0\\t1\\t0\\t0\\t0\\t1\\t0\\t0\\t0\\t0\\t1\\t0\\t0\\t1\\t0\\t0\\t0\\t0\\t0\\t0\\t0\\t0\\t1\\t1\\t1\\t0\\t0\\t0\\t1\\t0\\t0\\t0\\t1\\t1\\t1\\t0\\t1\\t0\\t0\\t0\\t0\\t10\\t1\\t0\\t0\\t0\\t0\\t0\\t1\\t1\\t1\\t0\\t1\\t10\\t0\\t1\\t0\\t1\\t0\\t0\\t1\\t0\\t1\\t\\t\\t0\\t01\\t0\\t0\\t0\\t0\\t1\\t1\\t0\\t0\\t0\\t0\\t0\\t1\\t1\\t1\\t0\\t1\\t1\\t0\\t0\\t1\\t1\\t0\\t0\\t1\\t1\\t0\\t0\\t0\\t0\\t0\\t0\\t0\\t0\\t1\\t1\\t1\\t0\\t0\\t0\\t1\\t0\\t0\\t01\\t0\\t1\\t0\\t0\\t0\\t1\\t0\\t0\\t1\\t1\\t0\\t0\\t0\\t1\\t1\\t\\t\\t\\r\\n1[1] Training Codebook 47.\\r\\n\\t12\\t1\\t0\\t1\\t1\\t\\t0\\t0\\t1\\t0\\t0\\t1\\t0\\t0\\t0\\t1\\t1\\t1\\t0\\t0\\t1\\t0\\t0\\t1\\t0\\t0\\t0\\t1\\t1\\t0\\t0\\t0\\t1\\t1\\t0\\t1\\t0\\t1\\t0\\t1\\t1\\t1\\t0\\t0\\t0\\t10[1] Lambda:min(inf,1.5014e-07) Max:1 Min:0 Avg:0.390625 Std/Avg:1.249000 Dist:0.000000 NonZero/Total:100/256\\r\\n\\t1\\t0\\t0\\t0\\t0\\t1\\t2\\t0\\t0\\t0\\t0\\t0\\t1\\t1\\t1\\t1\\t1\\t1\\t1\\t1\\t0\\t0\\t0\\t0\\t0\\t0\\t0\\t0\\t0\\t0\\t0\\t\\t0\\t0\\t0\\t1\\t1\\t1\\t0\\t1\\t0\\t0\\t0\\t0\\t1\\t0\\t1\\t0\\t1\\t0\\t0\\t1\\t0\\t0\\t1\\t1\\t011\\t1\\t0\\t0\\t0\\t1\\t0\\t0\\t1\\t1\\t0\\t0\\t0\\t0\\t0\\t\\t0\\t0\\t0\\t1\\t1\\t0\\t01\\t0\\t1\\t1\\t0\\t0\\t1\\t1\\t1\\t1\\t\\t1\\t0\\t00\\t0\\t1\\t1\\t1\\t1\\t1\\t0\\t0\\t0\\t1\\t0\\t0\\t1\\t0\\t0\\t0\\t1\\t1\\t1\\t0\\t0\\t0\\t1\\t0\\t0\\t1\\t0\\t0\\t1\\t0\\t0\\t\\t0\\t0\\t1\\t0\\t0\\t0\\t1\\t1\\t1\\t0\\t0\\t1\\t0\\t0\\t1\\t0\\t00\\t1\\t0\\t0\\t0\\t1\\t1\\t0\\t0\\t1\\t1\\t0\\t0\\t1\\t0\\t0\\t0\\t1\\t0\\t1\\t0\\t\\t1\\t0\\t1\\t01\\t0\\t1\\t1\\t0\\t1\\t1\\t1\\t0\\t0\\t1\\t0\\t0\\t1\\t0\\t0\\t1\\t\\t\\t0\\t0\\t0\\t0\\t1\\t0\\t1\\t0\\t1\\t00\\t0\\t0\\t0\\t1\\t0\\t0\\t0\\t1\\t0\\t0\\t0\\t0\\t1\\t0\\t1\\t0\\t1\\t0\\t0\\t1\\t0\\t1\\t0\\t1\\t0\\t1\\t1\\t0\\t0\\t0\\t0\\t00\\t\\t1\\t1\\t0\\t0\\t0\\t1\\t1\\t0\\t1\\t0\\t1\\t0\\t1\\t1\\t1\\t0\\t0[1] Lambda:min(inf,4.49908e-08) Max:2 Min:0 Avg:0.390625 Std/Avg:1.269331 Dist:0.000001 NonZero/Total:99/256\\r\\n\\t\\t2\\t1\\t1\\t1\\t1\\t1\\t0\\t0\\t0\\t0\\t0\\t0\\t0\\t0\\t0\\t0\\t0\\t0\\t0\\t00\\t0\\t0\\t1\\t1\\t0\\t1\\t0\\t0\\t0\\t0\\t1\\t1\\t1\\t0\\t0\\t0\\t1\\t0\\t0\\t\\t0\\t0\\t0\\t1\\t0\\t0\\t1\\t1\\t1\\t0\\t1\\t0\\t0\\t0\\t0\\t1\\t1\\t0\\t0\\t0\\t0\\t0\\t1\\t1\\t1\\t0\\t1\\t1\\t0\\t0\\t1\\t0\\t1\\t0\\t0\\t1\\t0\\t1\\t0\\t0\\t\\t1\\t1\\t1\\t1\\t0\\t0\\t0\\t1\\t0\\t0\\t1\\t0\\t0\\t0\\t1\\t1\\t1\\t0\\t0\\t1\\t0\\t1\\t0\\t0\\t1\\t1\\t0\\t0\\t0\\t1\\t0\\t10\\t0\\t00\\t1\\t0\\t0\\t1\\t1\\t0\\t0\\t0\\t1\\t1\\t0\\t0\\t0\\t1\\t1\\t0\\t0\\t0\\t1\\t1\\t\\t0\\t0\\t1\\t1\\t0\\t0\\t0\\t0\\t\\t1\\t1\\t0\\t1\\t0\\t10\\t0\\t1\\t0\\t0\\t\\t0\\r\\n0\\t1\\t0\\t1\\t0\\t1\\t1\\t1\\t0\\t0\\t0\\t10\\t0\\t0\\t1\\t0\\t1\\t0\\t1\\t0\\t0\\t1\\t0\\t1\\t0\\t0\\t1\\t0\\t1\\t0\\t1\\t0\\t1\\t1\\t0\\t0\\t0\\t0\\t0\\t0\\t0\\t0[1] Training Codebook 6.\\r\\n\\t1\\t1\\t10\\t\\t0\\t0\\t0\\t1\\t0\\t0\\t0\\t\\t1\\t1\\t11\\t1\\t1\\t0\\t1\\t0\\t\\t\\t1\\t1\\t1\\t1\\t10\\t0\\t0\\t1\\t0\\t0\\t1\\t10\\t0\\t0\\t1\\t1\\t0\\t0\\t0\\t0\\t\\t0\\t0\\t0\\t1\\t0\\t0\\t00\\t1\\t0\\t0\\t1\\t1\\t0\\t0\\t0\\t1\\t2\\t0\\t0\\t0\\t1\\t0\\t0\\t0\\t1\\t1\\t0\\t0\\t1\\t1\\t0\\t0\\t1\\t00\\t0\\t0\\t0\\t\\t0\\t1\\t0\\t0\\t0\\t1\\t1\\t0\\t0\\t10\\t0\\t0\\t1\\t\\t1\\t0\\t00\\t0\\t1\\t0\\t0\\t0\\t1\\t0\\t1\\t0\\t1\\t0\\t1\\t0\\t\\t\\t0\\t0\\t0\\t0\\t1\\t11\\t0\\t1\\t0\\t1\\t0\\t1\\t1\\t0\\t1\\t1\\t\\t1\\t0\\t0\\t1\\t0\\t0\\t1\\t0\\t01\\t0\\t1\\t1\\t1\\t0\\t0\\t0\\t1\\t1\\t0\\t0\\t0\\t0\\t0\\t1\\t0\\t0\\t0\\t1\\t0\\t1\\t10\\t0\\t0\\t0\\t0\\t1\\t1\\t1\\t0\\t1\\t1\\t0\\t\\t\\t1\\t0\\t0\\t1\\t1\\t0\\t0\\t1\\t0\\t0\\t0\\t1\\t01\\t1\\t0\\t0\\t\\t11\\t0\\t0\\t1\\t0\\t0\\t1\\t\\t0\\t1\\t0\\t1\\t0\\t1\\t1\\t0\\t1\\t1\\t0\\t0\\t0\\t1\\t0\\t0\\t1\\t0\\t0\\t1\\t00\\t1\\t1\\t1\\t1\\t1\\t0\\t0\\t0\\t1\\t0\\t0\\t1\\t0\\t0\\t0\\t1\\t1\\t1\\t0\\t0\\t1\\t0\\t0\\t1\\t0\\t00\\t0\\t1\\t1\\t0\\t0\\t0\\t1\\t1\\t0\\t1\\t0\\t1\\t0\\t1\\t1\\t1\\t0\\t0\\t0\\t1\\t1\\t1\\t0\\t0\\t0\\t1\\t0\\t0\\t1\\t1\\t0\\t0\\t0\\t1\\t1\\t0\\t1\\t0\\t0\\t0\\t0\\t1\\t0\\t0\\t0\\t1\\t0\\t0\\t\\t\\t0\\t0\\t0\\t0\\t1\\t0\\t0\\t0\\t1\\t1\\t0\\t0\\t1\\t0\\t0\\t01\\t0\\t0\\t1\\t0\\t0\\t0\\t1\\t0\\t1\\t0\\t1\\t0\\t1\\t0\\t1\\t1\\t0\\t1\\t1\\t1\\t0\\t0\\t1\\t0\\t0\\t1\\t0\\t0\\t1\\t0\\t0\\t0\\t0\\t1\\t0\\t0\\t0\\t1\\t0\\t0\\t0\\t0\\t1\\t0\\t0\\t1\\t0\\t0\\t1\\t0\\t1\\t0\\t0\\t0\\t1\\t0\\t0\\t1\\t1\\t0\\t0\\t0\\t1\\t1\\t\\r\\n\\t1\\t0\\t0\\t0\\t1\\t0\\t0\\t0\\t0\\t1\\t0\\t0\\t1\\t0\\t0\\t1\\t0\\t1\\t0\\t0\\t0\\t1\\t0\\t\\t0\\t1\\t1\\t0\\t0\\t0\\t10\\t1\\t\\t0\\t0\\t1\\t0\\t0\\t0\\r\\n\\t1\\t0\\t0\\t0\\t0\\t1\\t0\\t0\\t1\\t0\\t0\\t1\\t0\\t1\\t0\\t0\\t0\\t1\\t0\\t0\\t1\\t1\\t0\\t0\\t0\\t1\\t1\\t\\r\\n0\\t0\\t1\\t0\\t0\\t1\\t0\\t0\\t1\\t0\\t1\\t0\\t0\\t0\\t1\\t0\\t0\\t1\\t1\\t0\\t0\\t0\\t1\\t1\\t[1] Training Codebook 23.\\r\\n\\r\\n[1] Training Codebook 39.\\r\\n[1] Lambda:min(inf,2.99178e-07) Max:1 Min:0 Avg:0.390625 Std/Avg:1.249000 Dist:0.000000 NonZero/Total:100/256\\r\\n1\\t1\\t1\\t1\\t1\\t1\\t1\\t1\\t0\\t0\\t0\\t0\\t1\\t0\\t0\\t0\\t0\\t0\\t0\\t0\\t0\\t1\\t0\\t1\\t0\\t0\\t0\\t0\\t0\\t1\\t1\\t0\\t0\\t1\\t0\\t0\\t1\\t1\\t1\\t1\\t0\\t0\\t1\\t0\\t1\\t1\\t0\\t0\\t1\\t0\\t1\\t0\\t0\\t1\\t0\\t0\\t1\\t0\\t1\\t0\\t1\\t1\\t1\\t1\\t0\\t1\\t0\\t1\\t1\\t0\\t0\\t1\\t1\\t1\\t1\\t1\\t1\\t0\\t0\\t0\\t0\\t1\\t0\\t0\\t1\\t1\\t0\\t0\\t0\\t0\\t0\\t1\\t0\\t0\\t0\\t0\\t0\\t0\\t1\\t0\\t0\\t1\\t0\\t0\\t0\\t0\\t1\\t0\\t0\\t0\\t1\\t1\\t1\\t0\\t1\\t1\\t1\\t1\\t0\\t1\\t1\\t1\\t0\\t1\\t1\\t1\\t0\\t0\\t0\\t0\\t1\\t1\\t0\\t1\\t0\\t1\\t0\\t1\\t0\\t1\\t0\\t0\\t0\\t0\\t0\\t0\\t0\\t1\\t0\\t0\\t0\\t0\\t0\\t1\\t0\\t1\\t1\\t0\\t0\\t0\\t0\\t0\\t0\\t0\\t1\\t0\\t0\\t1\\t0\\t0\\t1\\t0\\t1\\t0\\t0\\t0\\t0\\t1\\t0\\t0\\t1\\t0\\t0\\t1\\t0\\t1\\t1\\t1\\t0\\t1\\t0\\t0\\t0\\t0\\t1\\t1\\t0\\t0\\t0\\t0\\t1\\t1\\t0\\t0\\t1\\t0\\t0\\t1\\t0\\t0\\t0\\t1\\t0\\t0\\t0\\t0\\t0\\t0\\t0\\t0\\t1\\t1\\t0\\t0\\t1\\t1\\t1\\t0\\t0\\t0\\t0\\t0\\t1\\t1\\t0\\t0\\t0\\t0\\t0\\t0\\t1\\t0\\t1\\t1\\t1\\t0\\t0\\t0\\t0\\t0\\t0\\t1\\t0\\t1\\t0\\t0\\t[1] \\r\\nTraining Codebook 15.\\r\\n[1] Training Codebook 43.\\r\\n[1] Lambda:min(inf,4.08694e-07) Max:1 Min:0 Avg:0.390625 Std/Avg:1.249000 Dist:0.000000 NonZero/Total:100/256\\r\\n1\\t1\\t1\\t1\\t1\\t0\\t1\\t0\\t0\\t0\\t0\\t0\\t0\\t0\\t0\\t0\\t1\\t1\\t0\\t1\\t1\\t1\\t0\\t0\\t1\\t0\\t0\\t0\\t0\\t0\\t0\\t1\\t0\\t0\\t1\\t0\\t0\\t0\\t1\\t1\\t0\\t0\\t0\\t0\\t0\\t1\\t1\\t0\\t0\\t0\\t0\\t1\\t0\\t0\\t1\\t0\\t1\\t0\\t1\\t0\\t1\\t1\\t1\\t1\\t0\\t0\\t1\\t0\\t0\\t0\\t0\\t0\\t0\\t0\\t0\\t0\\t0\\t0\\t0\\t1\\t0\\t0\\t1\\t0\\t0\\t1\\t1\\t1\\t1\\t0\\t1\\t0\\t1\\t1\\t1\\t1\\t1\\t1\\t1\\t0\\t0\\t0\\t0\\t0\\t1\\t0\\t0\\t1\\t0\\t1\\t0\\t0\\t0\\t1\\t1\\t1\\t0\\t0\\t1\\t1\\t0\\t1\\t0\\t1\\t0\\t0\\t1\\t0\\t1\\t0\\t0\\t0\\t1\\t1\\t0\\t0\\t0\\t0\\t1\\t0\\t1\\t1\\t0\\t1\\t1\\t0\\t1\\t1\\t0\\t0\\t1\\t0\\t0\\t1\\t0\\t1\\t1\\t0\\t0\\t0\\t0\\t0\\t1\\t1\\t1\\t1\\t1\\t0\\t0\\t1\\t0\\t1\\t0\\t1\\t1\\t0\\t1\\t0\\t0\\t1\\t1\\t0\\t0\\t0\\t1\\t0\\t1\\t0\\t0\\t1\\t0\\t0\\t1\\t0\\t0\\t0\\t0\\t1\\t0\\t1\\t0\\t0\\t0\\t0\\t0\\t0\\t1\\t0\\t1\\t0\\t0\\t1\\t0\\t1\\t0\\t0\\t0\\t0\\t1\\t0\\t0\\t0\\t0\\t1\\t0\\t0\\t0\\t1\\t0\\t0\\t1\\t0\\t0\\t0\\t0\\t0\\t0\\t1\\t1\\t0\\t1\\t0\\t0\\t0\\t1\\t0\\t0\\t0\\t0\\t0\\t0\\t1\\t0\\t1\\t1\\t1\\t\\r\\n[1] Training Codebook 20.\\r\\n[1] Lambda:min(inf,2.33894e-07) Max:2 Min:0 Avg:0.390625 Std/Avg:1.269331 Dist:0.000003 NonZero/Total:99/256\\r\\n1\\t1\\t1\\t1\\t0\\t0\\t1\\t0\\t0\\t0\\t0\\t0\\t0\\t0\\t0\\t0\\t1\\t1\\t0\\t1\\t1\\t1\\t0\\t0\\t1\\t0\\t0\\t0\\t0\\t0\\t0\\t1\\t0\\t0\\t1\\t0\\t0\\t0\\t1\\t1\\t0\\t0\\t0\\t0\\t0\\t1\\t1\\t0\\t0\\t0\\t0\\t1\\t0\\t0\\t1\\t0\\t1\\t0\\t1\\t0\\t1\\t1\\t1\\t1\\t0\\t0\\t1\\t0\\t0\\t0\\t0\\t0\\t0\\t0\\t0\\t0\\t0\\t0\\t0\\t1\\t0\\t0\\t1\\t0\\t0\\t1\\t1\\t1\\t1\\t0\\t1\\t0\\t1\\t1\\t1\\t1\\t1\\t1\\t1\\t0\\t0\\t0\\t0\\t0\\t1\\t0\\t0\\t1\\t0\\t1\\t0\\t0\\t0\\t1\\t1\\t2\\t0\\t0\\t1\\t1\\t0\\t1\\t0\\t1\\t1\\t0\\t1\\t0\\t1\\t0\\t0\\t0\\t1\\t1\\t0\\t0\\t0\\t0\\t1\\t0\\t1\\t1\\t0\\t1\\t1\\t0\\t1\\t1\\t0\\t0\\t1\\t0\\t0\\t1\\t0\\t1\\t1\\t0\\t0\\t0\\t0\\t0\\t1\\t1\\t1\\t1\\t1\\t0\\t0\\t1\\t0\\t1\\t0\\t1\\t1\\t0\\t1\\t0\\t0\\t0\\t1\\t0\\t0\\t0\\t1\\t0\\t1\\t0\\t0\\t1\\t0\\t0\\t1\\t0\\t0\\t0\\t0\\t1\\t0\\t1\\t0\\t0\\t0\\t0\\t0\\t0\\t1\\t0\\t1\\t0\\t0\\t1\\t0\\t1\\t0\\t0\\t0\\t0\\t1\\t0\\t0\\t0\\t0\\t1\\t0\\t0\\t0\\t1\\t0\\t0\\t1\\t0\\t0\\t0\\t0\\t0\\t0\\t1\\t1\\t0\\t1\\t0\\t0\\t0\\t1\\t0\\t0\\t0\\t0\\t0\\t0\\t1\\t0\\t1\\t1\\t1\\t\\r\\n[1] Training Codebook 12.\\r\\n[1] Training Codebook 1.\\r\\n[1] Lambda:min(inf,7.67169e-07) Max:1 Min:0 Avg:0.390625 Std/Avg:1.249000 Dist:0.000000 NonZero/Total:100/256\\r\\n1\\t1\\t1\\t1\\t1\\t0\\t1\\t0\\t0\\t0\\t0\\t0\\t0\\t0\\t0\\t0\\t1\\t1\\t0\\t1\\t1\\t1\\t0\\t0\\t1\\t0\\t0\\t0\\t0\\t0\\t0\\t1\\t0\\t0\\t1\\t0\\t0\\t0\\t1\\t1\\t0\\t0\\t0\\t0\\t0\\t1\\t1\\t0\\t0\\t0\\t0\\t1\\t0\\t0\\t1\\t0\\t1\\t0\\t1\\t0\\t1\\t1\\t1\\t1\\t0\\t0\\t1\\t0\\t0\\t0\\t0\\t0\\t0\\t0\\t0\\t0\\t0\\t0\\t0\\t1\\t0\\t0\\t1\\t0\\t0\\t1\\t1\\t1\\t1\\t0\\t1\\t0\\t1\\t1\\t1\\t1\\t1\\t1\\t1\\t0\\t0\\t0\\t0\\t0\\t1\\t0\\t0\\t1\\t0\\t1\\t0\\t0\\t0\\t1\\t1\\t1\\t0\\t0\\t1\\t1\\t0\\t1\\t0\\t1\\t1\\t0\\t1\\t0\\t1\\t0\\t0\\t0\\t1\\t1\\t0\\t0\\t0\\t0\\t1\\t0\\t0\\t1\\t0\\t1\\t1\\t0\\t1\\t1\\t0\\t0\\t1\\t0\\t0\\t1\\t0\\t1\\t1\\t0\\t0\\t0\\t0\\t0\\t1\\t1\\t1\\t1\\t1\\t0\\t0\\t1\\t0\\t1\\t0\\t1\\t1\\t0\\t1\\t0\\t0\\t1\\t1\\t0\\t0\\t0\\t1\\t0\\t1\\t0\\t0\\t1\\t0\\t0\\t1\\t0\\t0\\t0\\t0\\t1\\t0\\t1\\t0\\t0\\t0\\t0\\t0\\t0\\t1\\t0\\t1\\t0\\t0\\t1\\t0\\t1\\t0\\t0\\t0\\t0\\t1\\t0\\t0\\t0\\t0\\t1\\t0\\t0\\t0\\t1\\t0\\t0\\t1\\t0\\t0\\t0\\t0\\t0\\t0\\t1\\t1\\t0\\t1\\t0\\t0\\t0\\t1\\t0\\t0\\t0\\t0\\t0\\t0\\t1\\t0\\t1\\t1\\t1\\t\\r\\n[1] Training Codebook 48.\\r\\n[1] Lambda:min(inf,1.79821e-07) Max:1 Min:0 Avg:0.390625 Std/Avg:1.249000 Dist:0.000000 NonZero/Total:100/256\\r\\n1\\t1\\t1\\t1\\t1\\t1\\t1\\t1\\t0\\t0\\t1\\t0\\t0\\t0\\t0\\t0\\t0\\t0\\t1\\t1\\t0\\t0\\t0\\t0\\t0\\t0\\t0\\t0\\t1\\t0\\t1\\t1\\t1\\t1\\t0\\t0\\t0\\t0\\t0\\t1\\t1\\t0\\t0\\t1\\t1\\t0\\t1\\t0\\t0\\t0\\t1\\t1\\t0\\t0\\t1\\t1\\t1\\t0\\t0\\t1\\t1\\t1\\t0\\t0\\t0\\t0\\t1\\t1\\t0\\t0\\t0\\t0\\t0\\t0\\t0\\t1\\t0\\t1\\t0\\t0\\t1\\t0\\t0\\t1\\t0\\t0\\t0\\t1\\t0\\t0\\t1\\t0\\t0\\t1\\t1\\t0\\t1\\t1\\t0\\t1\\t0\\t1\\t0\\t0\\t1\\t0\\t0\\t1\\t1\\t1\\t1\\t1\\t1\\t1\\t0\\t1\\t0\\t1\\t0\\t0\\t0\\t1\\t0\\t0\\t1\\t1\\t1\\t0\\t1\\t0\\t1\\t0\\t1\\t1\\t1\\t1\\t1\\t0\\t0\\t1\\t1\\t1\\t0\\t1\\t0\\t0\\t0\\t0\\t0\\t1\\t0\\t1\\t0\\t0\\t0\\t1\\t1\\t1\\t1\\t0\\t1\\t1\\t0\\t1\\t0\\t0\\t0\\t0\\t0\\t1\\t0\\t0\\t0\\t0\\t0\\t0\\t1\\t0\\t0\\t1\\t1\\t1\\t1\\t0\\t0\\t0\\t0\\t1\\t1\\t0\\t1\\t0\\t0\\t0\\t1\\t0\\t1\\t0\\t0\\t0\\t0\\t0\\t0\\t0\\t1\\t0\\t0\\t0\\t0\\t0\\t0\\t0\\t0\\t0\\t1\\t0\\t0\\t1\\t0\\t0\\t0\\t0\\t0\\t1\\t1\\t1\\t0\\t1\\t0\\t0\\t0\\t0\\t0\\t0\\t1\\t1\\t0\\t0\\t1\\t0\\t1\\t0\\t0\\t0\\t0\\t0\\t0\\t0\\t0\\t1\\t0\\t0\\t0\\t0\\t0\\t0\\t[1] \\r\\nLambda:min(inf,3.31759e-08) Max:1 Min:0 Avg:0.390625 Std/Avg:1.249000 Dist:0.000000 NonZero/Total:100/256\\r\\n1\\t1\\t1\\t1\\t1\\t0\\t1\\t0\\t0\\t0\\t0\\t0\\t0\\t0\\t0\\t0\\t1\\t1\\t0\\t1\\t1\\t1\\t0\\t0\\t1\\t0\\t0\\t0\\t0\\t0\\t0\\t1\\t0\\t0\\t1\\t0\\t0\\t0\\t1\\t1\\t0\\t0\\t0\\t0\\t0\\t1\\t1\\t0\\t0\\t0\\t0\\t1\\t0\\t0\\t1\\t0\\t1\\t0\\t1\\t0\\t1\\t1\\t1\\t1\\t0\\t0\\t1\\t0\\t0\\t0\\t0\\t0\\t0\\t0\\t0\\t0\\t0\\t0\\t0\\t1\\t0\\t0\\t1\\t0\\t0\\t1\\t1\\t1\\t1\\t0\\t1\\t0\\t1\\t1\\t1\\t1\\t1\\t1\\t1\\t0\\t0\\t0\\t0\\t0\\t1\\t0\\t0\\t1\\t0\\t1\\t0\\t0\\t0\\t1\\t1\\t1\\t0\\t0\\t1\\t1\\t0\\t1\\t0\\t1\\t1\\t0\\t1\\t0\\t1\\t0\\t0\\t0\\t1\\t1\\t0\\t0\\t0\\t0\\t1\\t0\\t1\\t1\\t0\\t1\\t1\\t0\\t1\\t1\\t0\\t0\\t1\\t0\\t0\\t1\\t0\\t1\\t1\\t0\\t0\\t0\\t0\\t0\\t1\\t1\\t1\\t1\\t1\\t0\\t0\\t1\\t0\\t1\\t0\\t1\\t1\\t0\\t1\\t0\\t0\\t1\\t1\\t0\\t0\\t0\\t1\\t0\\t1\\t0\\t0\\t1\\t0\\t0\\t1\\t0\\t0\\t0\\t0\\t1\\t0\\t1\\t0\\t0\\t0\\t0\\t0\\t0\\t1\\t0\\t1\\t0\\t0\\t1\\t0\\t1\\t0\\t0\\t0\\t0\\t1\\t0\\t0\\t0\\t0\\t1\\t0\\t0\\t0\\t1\\t0\\t0\\t1\\t0\\t0\\t0\\t0\\t0\\t0\\t0\\t1\\t0\\t1\\t0\\t0\\t0\\t1\\t0\\t0\\t0\\t0\\t0\\t0\\t1\\t0\\t1\\t1\\t1\\t[1] \\r\\nTraining Codebook 28.\\r\\n[1] Training Codebook 40.\\r\\n[1] Lambda:min(inf,5.0573e-07) Max:1 Min:0 Avg:0.390625 Std/Avg:1.249000 Dist:0.000000 NonZero/Total:100/256\\r\\n1\\t1\\t1\\t1\\t1\\t0\\t1\\t0\\t0\\t0\\t0\\t0\\t0\\t0\\t0\\t0\\t1\\t1\\t0\\t1\\t1\\t1\\t0\\t0\\t1\\t0\\t0\\t0\\t0\\t0\\t0\\t1\\t0\\t0\\t1\\t0\\t0\\t0\\t1\\t1\\t0\\t0\\t0\\t0\\t0\\t1\\t1\\t0\\t0\\t0\\t0\\t1\\t0\\t0\\t1\\t0\\t1\\t0\\t1\\t0\\t1\\t1\\t1\\t1\\t0\\t0\\t1\\t0\\t0\\t0\\t0\\t0\\t0\\t0\\t0\\t0\\t0\\t0\\t0\\t1\\t0\\t0\\t1\\t0\\t0\\t1\\t1\\t1\\t1\\t0\\t1\\t0\\t1\\t1\\t1\\t1\\t1\\t1\\t1\\t0\\t0\\t0\\t0\\t0\\t1\\t0\\t0\\t1\\t0\\t1\\t0\\t0\\t0\\t1\\t1\\t1\\t0\\t0\\t1\\t1\\t0\\t1\\t0\\t1\\t1\\t0\\t1\\t0\\t1\\t0\\t0\\t0\\t1\\t1\\t0\\t0\\t0\\t0\\t1\\t0\\t1\\t1\\t0\\t1\\t1\\t0\\t1\\t1\\t0\\t0\\t1\\t0\\t0\\t1\\t0\\t1\\t1\\t0\\t0\\t0\\t0\\t0\\t1\\t1\\t1\\t1\\t1\\t0\\t0\\t1\\t0\\t1\\t0\\t1\\t1\\t0\\t1\\t0\\t0\\t1\\t1\\t0\\t0\\t0\\t1\\t0\\t1\\t0\\t0\\t1\\t0\\t0\\t1\\t0\\t0\\t0\\t0\\t1\\t0\\t1\\t0\\t0\\t0\\t0\\t0\\t0\\t1\\t0\\t1\\t0\\t0\\t1\\t0\\t1\\t0\\t0\\t0\\t0\\t1\\t0\\t0\\t0\\t0\\t1\\t0\\t0\\t0\\t1\\t0\\t0\\t1\\t0\\t0\\t0\\t0\\t0\\t0\\t1\\t1\\t0\\t1\\t0\\t0\\t0\\t1\\t0\\t0\\t0\\t0\\t0\\t0\\t0\\t0\\t1\\t1\\t1\\t\\r\\n[1] Training Codebook 44.\\r\\n[1] Lambda:min(inf,7.23035e-07) Max:1 Min:0 Avg:0.390625 Std/Avg:1.249000 Dist:0.000000 NonZero/Total:100/256\\r\\n[1] Lambda:min(inf,3.61119e-07) Max:1 Min:0 Avg:0.390625 Std/Avg:1.249000 Dist:0.000000 NonZero/Total:100/256\\r\\n1\\t1\\t1\\t1\\t1\\t1\\t1\\t1\\t1\\t0\\t1\\t0\\t0\\t0\\t0\\t0\\t0\\t0\\t1\\t1\\t0\\t0\\t0\\t0\\t0\\t0\\t01\\t1\\t1\\t1\\t1\\t0\\t1\\t\\t0\\t1\\t0\\t1\\t1\\t1\\t1\\t0\\t0\\t0\\t0\\t0\\t1\\t1\\t0\\t0\\t1\\t0\\t0\\t1\\t0\\t0\\t0\\t1\\t1\\t0\\t0\\t0\\t0\\t0\\t0\\t0\\t0\\t0\\t1\\t1\\t0\\t1\\t1\\t1\\t0\\t0\\t1\\t0\\t0\\t0\\t0\\t0\\t0\\t1\\t0\\t0\\t1\\t0\\t0\\t0\\t1\\t1\\t0\\t0\\t0\\t0\\t0\\t1\\t1\\t0\\t0\\t0\\t0\\t1\\t0\\t0\\t1\\t0\\t1\\t0\\t1\\t0\\t1\\t1\\t1\\t1\\t0\\t0\\t1\\t0\\t0\\t0\\t0\\t0\\t0\\t0\\t0\\t0\\t0\\t0\\t0\\t1\\t0\\t0\\t1\\t0\\t0\\t1\\t1\\t1\\t1\\t0\\t1\\t0\\t1\\t1\\t1\\t1\\t1\\t1\\t1\\t0\\t0\\t0\\t0\\t0\\t1\\t0\\t0\\t1\\t0\\t1\\t0\\t0\\t0\\t1\\t1\\t1\\t0\\t0\\t1\\t1\\t0\\t1\\t0\\t1\\t1\\t0\\t1\\t0\\t1\\t0\\t0\\t0\\t1\\t1\\t0\\t0\\t0\\t0\\t1\\t0\\t1\\t1\\t0\\t1\\t1\\t0\\t1\\t1\\t0\\t0\\t1\\t0\\t0\\t0\\t0\\t1\\t1\\t0\\t0\\t0\\t0\\t0\\t1\\t1\\t1\\t1\\t1\\t0\\t0\\t1\\t0\\t1\\t0\\t1\\t1\\t0\\t1\\t0\\t0\\t1\\t1\\t0\\t0\\t0\\t1\\t0\\t1\\t0\\t0\\t1\\t0\\t0\\t1\\t0\\t0\\t0\\t0\\t1\\t0\\t1\\t0\\t0\\t0\\t0\\t0\\t0\\t1\\t0\\t1\\t0\\t0\\t1\\t0\\t1\\t0\\t0\\t0\\t0\\t1\\t0\\t0\\t0\\t0\\t1\\t0\\t0\\t0\\t1\\t0\\t0\\t1\\t0\\t0\\t0\\t0\\t0\\t0\\t1\\t1\\t0\\t1\\t0\\t0\\t0\\t1\\t0\\t0\\t0\\t0\\t0\\t0\\t1\\t0\\t1\\t1\\t1\\t\\r\\n0\\t0\\t1\\t1\\t1\\t0\\t0\\t1\\t1\\t1\\t0\\t0\\t0\\t0\\t1\\t1\\t0\\t0\\t0\\t0\\t0\\t0\\t0\\t1\\t0\\t1\\t0\\t0\\t1\\t0\\t0\\t1\\t0\\t0\\t0\\t1\\t0\\t0\\t1\\t0\\t0\\t1\\t1\\t0\\t1\\t1\\t0\\t1\\t[1] Training Codebook 16.\\r\\n0\\t1\\t0\\t0\\t1\\t0\\t0\\t1\\t1\\t1\\t1\\t1\\t1\\t1\\t0\\t1\\t0\\t1\\t0\\t0\\t0\\t1\\t0\\t0\\t1\\t1\\t1\\t0\\t1\\t0\\t1\\t0\\t1\\t1\\t1\\t1\\t1\\t0\\t0\\t1\\t1\\t1\\t0\\t1\\t0\\t0\\t0\\t0\\t0\\t1\\t0\\t1\\t0\\t0\\t0\\t1\\t1\\t1\\t1\\t0\\t1\\t1\\t0\\t1\\t0\\t0\\t0\\t0\\t0\\t1\\t0\\t0\\t0\\t0\\t0\\t0\\t1\\t0\\t0\\t1\\t1\\t1\\t1\\t0\\t0\\t0\\t0\\t1\\t1\\t0\\t1\\t0\\t0\\t0\\t1\\t0\\t1\\t0\\t0\\t0\\t0\\t0\\t0\\t0\\t1\\t0\\t0\\t0\\t0\\t0\\t0\\t0\\t0\\t0\\t1\\t0\\t0\\t1\\t0\\t0\\t0\\t0\\t0\\t1\\t1\\t1\\t0\\t1\\t0\\t0\\t0\\t0\\t0\\t0\\t1\\t1\\t0\\t0\\t1\\t0\\t1\\t0\\t0\\t0\\t0\\t0\\t0\\t0\\t0\\t1\\t0\\t0\\t0\\t0\\t0\\t0\\t\\r\\n[1] Training Codebook 7.\\r\\n[1] Lambda:min(inf,3.02378e-07) Max:2 Min:0 Avg:0.390625 Std/Avg:1.269331 Dist:0.000001 NonZero/Total:99/256\\r\\n1\\t1\\t1\\t1\\t1\\t1\\t1\\t0\\t0\\t0\\t0\\t1\\t1\\t1\\t0\\t0\\t0\\t1\\t1\\t0\\t0\\t0\\t0\\t0\\t0\\t0\\t0\\t0\\t0\\t0\\t1\\t0\\t0\\t0\\t1\\t0\\t1\\t0\\t1\\t0\\t1\\t0\\t0\\t0\\t1\\t1\\t0\\t1\\t0\\t0\\t0\\t0\\t0\\t1\\t0\\t0\\t1\\t0\\t0\\t0\\t1\\t1\\t0\\t1\\t1\\t0\\t0\\t0\\t0\\t1\\t1\\t0\\t0\\t0\\t0\\t0\\t0\\t0\\t0\\t1\\t0\\t0\\t1\\t0\\t1\\t2\\t0\\t1\\t1\\t0\\t0\\t1\\t0\\t0\\t1\\t1\\t1\\t1\\t1\\t0\\t0\\t0\\t0\\t1\\t1\\t0\\t0\\t0\\t1\\t0\\t0\\t1\\t0\\t1\\t0\\t1\\t1\\t0\\t0\\t0\\t0\\t0\\t1\\t1\\t0\\t0\\t1\\t0\\t0\\t0\\t0\\t1\\t0\\t1\\t1\\t0\\t0\\t0\\t0\\t0\\t1\\t0\\t1\\t0\\t1\\t0\\t1\\t0\\t0\\t1\\t0\\t1\\t0\\t1\\t0\\t1\\t1\\t0\\t0\\t1\\t1\\t1\\t1\\t1\\t0\\t0\\t1\\t1\\t1\\t1\\t1\\t0\\t0\\t1\\t1\\t0\\t0\\t1\\t0\\t1\\t1\\t0\\t0\\t0\\t1\\t1\\t0\\t0\\t0\\t0\\t0\\t0\\t0\\t1\\t1\\t0\\t0\\t0\\t0\\t0\\t1\\t0\\t0\\t0\\t0\\t1\\t1\\t0\\t0\\t1\\t1\\t0\\t0\\t1\\t0\\t0\\t0\\t0\\t1\\t0\\t0\\t0\\t0\\t1\\t1\\t0\\t0\\t0\\t0\\t1\\t1\\t0\\t0\\t0\\t0\\t0\\t0\\t1\\t1\\t0\\t1\\t0\\t0\\t1\\t1\\t1\\t0\\t0\\t0\\t0\\t0\\t0\\t0\\t0\\t0\\t1\\t\\r\\n[1] Training Codebook 21.\\r\\n[1] Lambda:min(inf,2.41784e-07) Max:2 Min:0 Avg:0.390625 Std/Avg:1.269331 Dist:0.000004 NonZero/Total:99/256\\r\\n1\\t1\\t1\\t1\\t1\\t1\\t1\\t0\\t0\\t0\\t0\\t2\\t1\\t1\\t0\\t0\\t0\\t1\\t1\\t0\\t0\\t0\\t0\\t0\\t0\\t0\\t0\\t0\\t0\\t0\\t1\\t0\\t0\\t0\\t1\\t0\\t1\\t0\\t1\\t0\\t1\\t0\\t0\\t0\\t1\\t1\\t0\\t1\\t0\\t0\\t0\\t0\\t0\\t1\\t0\\t0\\t1\\t0\\t0\\t0\\t1\\t1\\t0\\t1\\t1\\t0\\t0\\t0\\t0\\t1\\t1\\t0\\t0\\t0\\t0\\t0\\t0\\t0\\t0\\t1\\t0\\t0\\t1\\t0\\t1\\t1\\t0\\t1\\t1\\t0\\t0\\t1\\t0\\t0\\t1\\t1\\t1\\t1\\t1\\t0\\t0\\t0\\t0\\t1\\t1\\t0\\t0\\t0\\t1\\t0\\t0\\t1\\t0\\t1\\t0\\t1\\t1\\t0\\t0\\t0\\t0\\t0\\t1\\t1\\t0\\t0\\t1\\t0\\t0\\t0\\t0\\t1\\t0\\t1\\t1\\t0\\t0\\t0\\t0\\t0\\t1\\t0\\t1\\t0\\t1\\t0\\t1\\t0\\t0\\t1\\t0\\t1\\t0\\t1\\t0\\t1\\t1\\t0\\t0\\t1\\t1\\t1\\t1\\t1\\t0\\t0\\t1\\t1\\t1\\t1\\t1\\t0\\t0\\t1\\t1\\t0\\t0\\t1\\t0\\t1\\t1\\t0\\t0\\t0\\t1\\t1\\t0\\t0\\t0\\t0\\t0\\t0\\t0\\t1\\t1\\t0\\t0\\t0\\t0\\t0\\t1\\t0\\t0\\t0\\t0\\t1\\t1\\t1\\t0\\t1\\t1\\t0\\t0\\t1\\t0\\t0\\t0\\t0\\t1\\t0\\t0\\t0\\t0\\t1\\t1\\t0\\t0\\t0\\t0\\t1\\t1\\t0\\t0\\t0\\t0\\t0\\t0\\t1\\t0\\t0\\t1\\t0\\t0\\t1\\t1\\t1\\t0\\t0\\t0\\t0\\t0\\t0\\t0\\t0\\t0\\t1\\t\\r\\n[1] Training Codebook 13.\\r\\n[1] Lambda:min(inf,1.90242e-07) Max:1 Min:0 Avg:0.390625 Std/Avg:1.249000 Dist:0.000000 NonZero/Total:100/256\\r\\n1\\t1\\t1\\t1\\t1\\t1\\t1\\t1\\t0\\t0\\t0\\t1\\t1\\t1\\t0\\t0\\t0\\t1\\t1\\t0\\t0\\t0\\t0\\t0\\t0\\t0\\t0\\t0\\t0\\t0\\t1\\t0\\t0\\t0\\t1\\t0\\t1\\t0\\t1\\t0\\t1\\t0\\t0\\t0\\t1\\t1\\t0\\t1\\t0\\t0\\t0\\t0\\t0\\t1\\t0\\t0\\t1\\t0\\t0\\t0\\t1\\t1\\t0\\t1\\t1\\t0\\t0\\t0\\t0\\t1\\t1\\t0\\t0\\t0\\t0\\t0\\t0\\t0\\t0\\t1\\t0\\t0\\t1\\t0\\t1\\t1\\t0\\t1\\t1\\t0\\t0\\t1\\t0\\t0\\t1\\t1\\t1\\t1\\t1\\t0\\t0\\t0\\t0\\t1\\t1\\t0\\t0\\t0\\t1\\t0\\t0\\t1\\t0\\t1\\t0\\t1\\t1\\t0\\t0\\t0\\t0\\t0\\t1\\t1\\t0\\t0\\t1\\t0\\t0\\t0\\t0\\t1\\t0\\t1\\t1\\t0\\t0\\t0\\t0\\t0\\t1\\t0\\t1\\t0\\t1\\t0\\t1\\t0\\t0\\t1\\t0\\t1\\t0\\t1\\t0\\t1\\t1\\t0\\t0\\t1\\t1\\t1\\t1\\t1\\t0\\t0\\t1\\t1\\t1\\t1\\t1\\t0\\t0\\t1\\t1\\t0\\t0\\t1\\t0\\t1\\t1\\t0\\t0\\t0\\t1\\t1\\t0\\t0\\t0\\t0\\t0\\t0\\t0\\t1\\t1\\t0\\t0\\t0\\t0\\t0\\t1\\t0\\t0\\t0\\t0\\t1\\t0\\t1\\t0\\t1\\t1\\t0\\t0\\t1\\t0\\t0\\t0\\t0\\t1\\t0\\t0\\t0\\t0\\t1\\t1\\t0\\t0\\t0\\t0\\t1\\t1\\t0\\t0\\t0\\t0\\t0\\t0\\t1\\t1\\t0\\t1\\t0\\t0\\t1\\t1\\t1\\t0\\t0\\t0\\t0\\t0\\t0\\t0\\t0\\t0\\t1\\t\\r\\n[1] Training Codebook 49.\\r\\n[1] Lambda:min(inf,2.51261e-07) Max:1 Min:0 Avg:0.390625 Std/Avg:1.249000 Dist:0.000000 NonZero/Total:100/256\\r\\n1\\t1\\t1\\t1\\t1\\t0\\t1\\t0\\t0\\t0\\t0\\t0\\t0\\t0\\t0\\t0\\t1\\t1\\t0\\t1\\t1\\t1\\t0\\t0\\t1\\t0\\t0\\t0\\t0\\t0\\t0\\t1\\t0\\t0\\t1\\t0\\t0\\t0\\t1\\t1\\t0\\t0\\t0\\t0\\t0\\t1\\t1\\t0\\t0\\t0\\t0\\t1\\t0\\t0\\t1\\t0\\t1\\t0\\t1\\t0\\t1\\t1\\t1\\t1\\t0\\t0\\t1\\t0\\t0\\t0\\t0\\t0\\t0\\t0\\t0\\t0\\t0\\t0\\t0\\t1\\t0\\t0\\t1\\t0\\t0\\t1\\t1\\t1\\t1\\t0\\t1\\t0\\t1\\t1\\t1\\t1\\t1\\t1\\t1\\t0\\t0\\t0\\t0\\t0\\t1\\t0\\t0\\t1\\t0\\t1\\t0\\t0\\t0\\t1\\t1\\t1\\t0\\t0\\t1\\t1\\t0\\t1\\t0\\t1\\t1\\t0\\t1\\t0\\t1\\t0\\t0\\t0\\t1\\t1\\t0\\t0\\t0\\t0\\t1\\t0\\t1\\t1\\t0\\t1\\t1\\t0\\t1\\t1\\t0\\t0\\t1\\t0\\t0\\t1\\t0\\t1\\t1\\t0\\t0\\t0\\t0\\t0\\t1\\t1\\t1\\t1\\t1\\t0\\t0\\t1\\t0\\t1\\t0\\t1\\t1\\t0\\t1\\t0\\t0\\t1\\t1\\t0\\t0\\t0\\t1\\t0\\t1\\t0\\t0\\t1\\t0\\t0\\t1\\t0\\t0\\t0\\t0\\t1\\t0\\t1\\t0\\t0\\t0\\t0\\t0\\t0\\t1\\t0\\t1\\t0\\t0\\t1\\t0\\t1\\t0\\t0\\t0\\t0\\t1\\t0\\t0\\t0\\t0\\t1\\t0\\t0\\t0\\t1\\t0\\t0\\t0\\t0\\t0\\t0\\t0\\t0\\t0\\t1\\t1\\t0\\t1\\t0\\t0\\t0\\t1\\t0\\t0\\t0\\t0\\t0\\t0\\t1\\t0\\t1\\t1\\t1\\t\\r\\n[1] Training Codebook 24.\\r\\n[1] Lambda:min(inf,1.23189e-07) Max:2 Min:0 Avg:0.390625 Std/Avg:1.269331 Dist:0.000001 NonZero/Total:99/256\\r\\n1\\t1\\t1\\t1\\t1\\t1\\t1\\t1\\t0\\t0\\t0\\t0\\t0\\t0\\t1\\t0\\t1\\t0\\t0\\t1\\t0\\t1\\t1\\t0\\t0\\t0\\t0\\t0\\t0\\t0\\t1\\t1\\t0\\t0\\t0\\t1\\t0\\t0\\t1\\t0\\t1\\t0\\t0\\t0\\t0\\t0\\t0\\t1\\t0\\t0\\t0\\t1\\t0\\t0\\t0\\t0\\t0\\t1\\t0\\t1\\t0\\t0\\t1\\t0\\t0\\t1\\t1\\t0\\t0\\t0\\t1\\t1\\t1\\t1\\t0\\t0\\t0\\t0\\t1\\t0\\t1\\t1\\t0\\t1\\t1\\t1\\t1\\t1\\t0\\t0\\t1\\t1\\t0\\t1\\t0\\t0\\t0\\t0\\t0\\t1\\t0\\t1\\t1\\t0\\t1\\t0\\t1\\t0\\t0\\t0\\t0\\t0\\t0\\t1\\t0\\t0\\t1\\t0\\t0\\t0\\t0\\t1\\t1\\t0\\t1\\t0\\t1\\t0\\t1\\t1\\t1\\t0\\t0\\t1\\t1\\t0\\t1\\t1\\t1\\t1\\t1\\t1\\t0\\t1\\t0\\t1\\t0\\t0\\t1\\t1\\t1\\t1\\t0\\t1\\t0\\t1\\t1[1] \\t1\\t0\\t0\\t0\\t0\\t0\\t0\\t1\\t1\\t0\\t1\\t0\\t1\\t0\\t0\\t0\\t0\\t0\\t0\\t1\\t1\\t0\\t1\\t0\\t0\\t1\\t0\\t0\\t0\\t1\\t0\\t0\\t0\\t1\\t0\\t0\\t0\\t0\\t0\\t0\\t1\\t0\\t0\\t1\\t0\\t0\\t1\\t1\\t1\\t0\\t0\\t1\\t0\\t1\\t0\\t0\\t1\\t2\\t0\\t0\\t0\\t0\\t0\\t0\\t0\\t1\\t0\\t0\\t0\\t0\\t0\\t1\\t1\\t0\\t1\\t0\\t1\\t0\\t0\\t0\\t0\\t0\\t0\\t1\\t0\\t0\\t0\\t0\\t0\\t0\\t0\\t1\\t1\\t0\\t0\\t0\\t0\\t0\\t0\\t\\r\\nLambda:min(inf,1.42958e-06) Max:2 Min:0 Avg:0.390625 Std/Avg:1.269331 Dist:0.000001 NonZero/Total:99/256\\r\\n1\\t1\\t1\\t1\\t1\\t1\\t1\\t1\\t1\\t0\\t0\\t0\\t1\\t0\\t0\\t0\\t0\\t0\\t0\\t0\\t1\\t1\\t0\\t0\\t0\\t0\\t0\\t0\\t0\\t0\\t0\\t1\\t1\\t0\\t1\\t1\\t0\\t1\\t1\\t0\\t0\\t0\\t0\\t0\\t0\\t0\\t0\\t0\\t0\\t0\\t0\\t0\\t0\\t0\\t0\\t1\\t0\\t1\\t1\\t1\\t1\\t0\\t0\\t0\\t1\\t1\\t0\\t1\\t1\\t0\\t0\\t1\\t0\\t0\\t0\\t0\\t0\\t1\\t0\\t1\\t1\\t0\\t2\\t1\\t1\\t0\\t1\\t0\\t1\\t0\\t1\\t1\\t1\\t0\\t1\\t0\\t0\\t1\\t1\\t0\\t1\\t0\\t0\\t1\\t0\\t0\\t1\\t1\\t0\\t0\\t1\\t0\\t1\\t1\\t1\\t1\\t1\\t0\\t0\\t0\\t0\\t0\\t0\\t0\\t0\\t0\\t0\\t0\\t0\\t0\\t1\\t1\\t1\\t0\\t0\\t1\\t0\\t1\\t0\\t0\\t1\\t0\\t1\\t0\\t0\\t1\\t1\\t1\\t0\\t1\\t0\\t1\\t1\\t0\\t1\\t1\\t1\\t1\\t1\\t0\\t1\\t0\\t0\\t1\\t0\\t0\\t1\\t0\\t1\\t0\\t0\\t0\\t0\\t0\\t0\\t0\\t0\\t1\\t0\\t0\\t0\\t0\\t0\\t0\\t1\\t1\\t0\\t1\\t0\\t0\\t1\\t0\\t0\\t1\\t0\\t1\\t0\\t1\\t0\\t0\\t1\\t0\\t1\\t0\\t1\\t1\\t1\\t0\\t0\\t[1] 0\\t1\\tTraining Codebook 2.\\r\\n0\\t0\\t0\\t1\\t0\\t0\\t0\\t0\\t0\\t0\\t0\\t0\\t0\\t0\\t0\\t1\\t0\\t1\\t0\\t0\\t0\\t0\\t1\\t1\\t0\\t1\\t1\\t0\\t0\\t0\\t1\\t0\\t1\\t0\\t0\\t1\\t0\\t0\\t0\\t1\\t0\\t0\\t0\\t0\\t0\\t\\r\\n[1] Training Codebook 41.\\r\\n[1] Lambda:min(inf,6.29215e-07) Max:1 Min:0 Avg:0.390625 Std/Avg:1.249000 Dist:0.000000 NonZero/Total:100/256\\r\\n1\\t1\\t1\\t1\\t1\\t1\\t1\\t1\\t1\\t1\\t0\\t0\\t1\\t0\\t0\\t0\\t0\\t0\\t0\\t0\\t1\\t1\\t0\\t0\\t0\\t0\\t0\\t0\\t0\\t0\\t0\\t1\\t1\\t0\\t1\\t1\\t0\\t1\\t1\\t0\\t0\\t0\\t0\\t0\\t0\\t0\\t0\\t0\\t0\\t0\\t0\\t0\\t0\\t0\\t0\\t1\\t0\\t1\\t1\\t1\\t1\\t0\\t0\\t0\\t1\\t1\\t0\\t1\\t1\\t0\\t0\\t1\\t0\\t0\\t0\\t0\\t0\\t1\\t0\\t1\\t1\\t0\\t1\\t1\\t1\\t0\\t1\\t0\\t1\\t0\\t1\\t1\\t1\\t0\\t1\\t0\\t0\\t1\\t1\\t0\\t1\\t0\\t0\\t1\\t0\\t0\\t1\\t1\\t0\\t0\\t1\\t0\\t1\\t1\\t1\\t1\\t1\\t0\\t0\\t0\\t0\\t0\\t0\\t0\\t0\\t0\\t0\\t0\\t0\\t0\\t1\\t1\\t1\\t0\\t0\\t1\\t0\\t1\\t0\\t0\\t1\\t0\\t1\\t0\\t0\\t1\\t1\\t1\\t0\\t1\\t0\\t1\\t1\\t0\\t1\\t1\\t1\\t1\\t1\\t0\\t1\\t0\\t0\\t1\\t0\\t0\\t1\\t0\\t1\\t0\\t0\\t0\\t0\\t0\\t0\\t0\\t0\\t1\\t0\\t0\\t0\\t0\\t0\\t0\\t1\\t1\\t0\\t1\\t0\\t0\\t1\\t0\\t0\\t1\\t0\\t1\\t0\\t1\\t0\\t0\\t1\\t0\\t1\\t0\\t1\\t1\\t1\\t0\\t0\\t0\\t1\\t0\\t0\\t0\\t1\\t0\\t0\\t0\\t0\\t0\\t0\\t0\\t0\\t0\\t0\\t0\\t1\\t0\\t1\\t0\\t0\\t0\\t0\\t1\\t1\\t0\\t1\\t1\\t0\\t0\\t0\\t1\\t0\\t1\\t0\\t0\\t1\\t0\\t0\\t0\\t1\\t0\\t0\\t0\\t0\\t0\\t\\r\\n[1] Training Codebook 29.\\r\\n[1] Lambda:min(inf,8.88877e-07) Max:1 Min:0 Avg:0.390625 Std/Avg:1.249000 Dist:0.000000 NonZero/Total:100/256\\r\\n1\\t1\\t1\\t1\\t1\\t1\\t1\\t1\\t0\\t0\\t0\\t1\\t1\\t1\\t0\\t0\\t0\\t1\\t1\\t0\\t0\\t0\\t0\\t0\\t0\\t0\\t0\\t0\\t0\\t0\\t1\\t0\\t0\\t0\\t1\\t0\\t1\\t0\\t1\\t0\\t1\\t0\\t0\\t0\\t1\\t1\\t0\\t1\\t0\\t0\\t0\\t0\\t0\\t1\\t0\\t0\\t1\\t0\\t0\\t0\\t1\\t1\\t0\\t1\\t1\\t0\\t0\\t0\\t0\\t1\\t1\\t0\\t0\\t0\\t0\\t0\\t0\\t0\\t0\\t1\\t0\\t0\\t1\\t0\\t1\\t1\\t0\\t1\\t1\\t0\\t0\\t1\\t0\\t0\\t1\\t1\\t1\\t1\\t1\\t0\\t0\\t0\\t0\\t1\\t1\\t0\\t0\\t0\\t1\\t0\\t0\\t1\\t0\\t1\\t0\\t1\\t1\\t0\\t0\\t0\\t0\\t0\\t1\\t1\\t0\\t0\\t1\\t0\\t0\\t0\\t0\\t1\\t0\\t1\\t1\\t0\\t0\\t0\\t0\\t0\\t1\\t0\\t1\\t0\\t1\\t0\\t1\\t0\\t0\\t1\\t0\\t1\\t0\\t1\\t0\\t1\\t1\\t0\\t0\\t1\\t1\\t1\\t1\\t1\\t0\\t0\\t1\\t1\\t1\\t1\\t1\\t0\\t0\\t1\\t1\\t0\\t0\\t1\\t0\\t1\\t1\\t0\\t0\\t0\\t1\\t1\\t0\\t0\\t0\\t0\\t0\\t0\\t0\\t1\\t1\\t0\\t0\\t0\\t0\\t0\\t1\\t0\\t0\\t0\\t0\\t1\\t1\\t1\\t0\\t1\\t0\\t0\\t0\\t1\\t0\\t0\\t0\\t0\\t1\\t0\\t0\\t0\\t0\\t1\\t1\\t0\\t0\\t0\\t0\\t1\\t1\\t0\\t0\\t0\\t0\\t0\\t0\\t1\\t1\\t0\\t1\\t0\\t0\\t1\\t1\\t1\\t0\\t0\\t0\\t[1] Lambda:min(inf,8.87105e-08) Max:1 Min:0 Avg:0.390625 Std/Avg:1.249000 Dist:0.000000 NonZero/Total:100/256\\r\\n1\\t1\\t1\\t1\\t1\\t1\\t1\\t0\\t0\\t1\\t1\\t01\\t0\\t0\\t0\\t0\\t0\\t0\\t1\\t1\\t0\\t0\\t0\\t0\\t0\\t1\\t0\\t0\\t0\\t0\\t0\\t0\\t0\\t0\\t0\\t0\\t0\\t0\\t1\\t0\\t0\\t0\\t0\\t0\\t0\\t1\\t1\\t0\\t0\\t0\\t1\\t1\\t0\\t1\\t0\\t0\\t0\\t0\\t0\\t0\\t0\\t0\\t1\\t1\\t0\\t0\\t1\\t0\\t1\\t0\\t0\\t1\\t0\\t1\\t0\\t0\\t1\\t0\\t0\\t1\\t1\\t0\\t1\\t1\\t0\\t0\\t1\\t0\\t1\\t1\\t1\\t1\\t1\\t0\\t0\\t1\\t0\\t0\\t0\\t0\\t0\\t1\\t0\\t\\t0\\t1\\t1\\t0\\t1\\t0\\t0\\t1\\t0\\t1\\t0\\t1\\t1\\t0\\t1\\t0\\t1\\t1\\t0\\t0\\t0\\t0\\t0\\t0\\t0\\t0\\t1\\t1\\t1\\t0\\t1\\t1\\t1\\t0\\t1\\t0\\t1\\t\\r\\n0\\t1\\t0\\t1\\t0\\t0\\t1\\t0\\t0\\t1\\t1\\t1\\t0\\t0\\t0\\t0\\t0\\t1\\t0\\t1\\t1\\t1\\t0\\t0\\t1\\t0\\t1\\t1\\t1\\t0\\t0\\t0\\t1\\t0\\t1\\t1\\t0\\t1\\t0\\t1\\t1\\t1\\t1\\t0\\t0\\t0\\t0\\t0\\t0\\t0\\t0\\t0\\t1\\t0\\t0\\t0\\t0\\t0\\t0\\t0\\t0\\t1\\t0\\t0\\t1\\t1\\t1\\t0\\t1\\t0\\t1\\t1\\t0\\t0\\t0\\t1\\t0\\t1\\t0\\t0\\t0\\t0\\t0\\t0\\t1\\t1\\t0\\t1\\t0\\t1\\t0\\t1\\t0\\t0\\t1\\t0\\t1\\t0\\t0\\t0\\t1\\t0\\t0\\t0\\t0\\t1\\t0\\t1\\t0\\t0\\t1\\t0\\t0\\t0\\t0\\t0\\t0\\t1\\t0\\t0\\t0\\t1\\t\\r\\n[1] Training Codebook 8.\\r\\n[1] Lambda:min(inf,5.83453e-07) Max:1 Min:0 Avg:0.390625 Std/Avg:1.249000 Dist:0.000000 NonZero/Total:100/256\\r\\n1\\t1\\t1\\t1\\t1\\t1\\t1\\t0\\t0\\t1\\t1\\t1\\t0\\t0\\t0\\t0\\t0\\t0\\t1\\t1\\t0\\t0\\t0\\t0\\t0\\t1\\t0\\t0\\t0\\t0\\t0\\t0\\t0\\t0\\t0\\t0\\t0\\t0\\t1\\t0\\t0\\t0\\t0\\t0\\t0\\t1\\t1\\t0\\t0\\t0\\t1\\t1\\t0\\t1\\t0\\t0\\t0\\t0\\t0\\t0\\t0\\t0\\t1\\t1\\t0\\t0\\t1\\t0\\t1\\t0\\t0\\t1\\t0\\t1\\t0\\t0\\t1\\t0\\t0\\t1\\t1\\t0\\t1\\t1\\t0\\t0\\t1\\t0\\t1\\t1\\t1\\t1\\t1\\t0\\t0\\t1\\t0\\t0\\t0\\t0\\t0\\t1\\t0\\t0\\t1\\t1\\t0\\t1\\t0\\t0\\t1\\t0\\t1\\t0\\t1\\t1\\t0\\t1\\t0\\t1\\t1\\t0\\t0\\t0\\t1\\t1\\t0\\t1\\t1\\t1\\t0\\t1\\t1\\t1\\t0\\t1\\t0\\t1[1] \\t0Lambda:min(inf,1.56183e-07) Max:2 Min:0 Avg:0.390625 Std/Avg:1.269331 Dist:0.000000 NonZero/Total:99/256\\r\\n\\t0\\t1\\t0\\t0\\t1\\t1\\t1\\t0\\t0\\t0\\t0\\t0\\t1\\t0\\t1\\t1\\t1\\t0\\t0\\t1\\t0\\t1\\t1\\t1\\t0\\t0\\t0\\t1\\t0\\t1\\t1\\t0\\t1\\t0\\t1\\t1\\t1\\t1\\t1\\t1\\t1\\t1\\t1\\t1\\t1\\t1\\t0\\t0\\t0\\t0\\t1\\t1\\t0\\t0\\t0\\t0\\t0\\t0\\t0\\t0\\t0\\t1\\t0\\t0\\t0\\t0\\t0\\t0\\t0\\t0\\t0\\t0\\t0\\t1\\t1\\t1\\t0\\t1\\t0\\t1\\t1\\t0\\t0\\t0\\t1\\t0\\t1\\t0\\t0\\t0\\t0\\t0\\t0\\t1\\t1\\t0\\t1\\t0\\t1\\t0\\t1\\t0\\t0\\t1\\t0\\t1\\t0\\t0\\t0\\t1\\t0\\t0\\t0\\t0\\t1\\t0\\t1\\t0\\t0\\t1\\t0\\t0\\t0\\t0\\t0\\t0\\t1\\t0\\t0\\t0\\t1\\t0\\r\\n\\t0\\t0\\t1\\t0\\t0\\t0\\t0\\t0\\t0\\t0\\t0\\t0\\t1\\t0\\t0\\t0\\t0\\t0\\t1\\t0\\t1\\t1\\t0\\t0\\t0\\t1\\t0\\t0\\t1\\t1\\t0\\t1\\t0\\t0[1] \\t1\\t0\\t1\\tLambda:min(inf,3.64139e-07) Max:2 Min:0 Avg:0.390625 Std/Avg:1.269331 Dist:0.000001 NonZero/Total:99/256\\r\\n0\\t0\\t1\\t0\\t0\\t1\\t0\\t0\\t0\\t1\\t1\\t0\\t0\\t1\\t1\\t0\\t0\\t01\\t1\\t1\\t1\\t1\\t1\\t1\\t1\\t1\\t1\\t0\\t0\\t0\\t0\\t0\\t0\\t0\\t1\\t0\\t0\\t0\\t0\\t0\\t0\\t0\\t0\\t0\\t1\\t0\\t0\\t0\\t0\\t0\\t\\t11\\t\\t0\\t01\\t1\\t0\\t0\\t0\\t1\\t0\\t0\\t\\t0\\t0\\t0\\t0\\t0\\t1\\t0\\t1\\t1\\t1\\t0\\t1\\t0\\t0\\t1\\t1\\t0\\t1\\t0\\t0\\t1\\t0\\t1\\t0\\t0\\t1\\t0\\t0\\t1\\t0\\t0\\t0\\t1\\t1\\t0\\t0\\t1\\t1\\t0\\t0\\t0\\t1\\t0\\t0\\t0\\t0\\t0\\t0\\t1\\t0\\t1\\t1\\t2\\t0\\t1\\t0\\t0\\t0\\t1\\t0\\t1\\t1\\t1\\t1\\t1\\t1\\t0\\t0\\t0\\t1\\t1\\t1\\t1\\t1\\t1\\t0\\t0\\t0\\t0\\t1\\t1\\t1\\t0\\t1\\t0\\t0\\t0\\t1\\t0\\t1\\t1\\t0\\t1\\t0\\t1\\t0\\t1\\t1\\t1\\t1\\t1\\t0\\t0\\t0\\t0\\t0\\t1\\t0\\t0\\t1\\t0\\t0\\t0\\t1\\t1\\t1\\t0\\t0\\t0\\t0\\t1\\t1\\t0\\t0\\t1\\t1\\t1\\t1\\t0\\t0\\t0\\t1\\t0\\t1\\t0\\t0\\t0\\t1\\t0\\t0\\t1\\t0\\t0\\t0\\t0\\t0\\t0\\t0\\t0\\t0\\t00\\t\\t1\\t1\\t0\\t0\\t1\\t20\\t0\\t\\t1\\t10\\t\\t01\\t1\\t0\\t\\t00\\t\\t0\\t10\\t\\t1\\t1\\t0\\t1\\t1\\t1\\t0\\t10\\t\\t11\\t0\\t0\\t\\t11\\t\\t1\\t0\\t0\\t1\\t0\\t00\\t1\\t0\\t\\t0\\t10\\t\\t1\\t01\\t\\t0\\t1\\t1\\t0\\t0\\t0\\t00\\t\\t01\\t\\t0\\t0\\t0\\t0\\t10\\t\\t11\\t\\t00\\t\\t11\\t0\\t0\\t\\t0\\t00\\t\\t0\\t1\\t0\\t00\\t\\t1\\t11\\t\\t0\\t1\\t0\\t1\\t0\\t10\\t\\t01\\t\\t0\\t0\\t00\\t\\t00\\t\\t0\\t0\\t0\\t0\\t10\\t\\t0\\t0\\t1\\t0\\t1\\t1\\t1\\t00\\t\\t0\\t0\\t1\\t00\\t\\t0\\t1\\t0\\t1\\t0\\t1\\t1\\t0\\t0\\t0\\t1\\t01\\t0\\t1\\t1\\t1\\t\\t0\\t1\\t1\\t\\r\\n0\\t0\\t1\\t1\\t1\\t1\\t0\\t0\\t0\\t1\\t0\\t1\\t0\\t0\\t0\\t1\\t0\\t0\\t1\\t0\\t0\\t0\\t1\\t0\\t0\\t0\\t0\\t0\\t0\\t1\\t0\\t0\\t0\\t0\\t0\\t0\\t0\\t1\\t1\\t0\\t1\\t0\\t0\\t1\\t0\\t0\\t1\\t1\\t0\\t1\\t0\\t1\\t0\\t0\\t0\\t1\\t0\\t0\\t0\\t0\\t0\\t0\\t0\\t1\\t0\\t0\\t0\\t0\\t0\\t0\\t0\\t[1] 0\\tTraining Codebook 17.\\r\\n0\\t1\\t1\\t0\\t0\\t0\\t0\\t0\\t0\\t0\\t0\\t0\\t0\\t0\\t0\\t1\\t1\\t1\\t0\\t0\\t1\\t0\\t0\\t0\\t0\\t1\\t0\\t1\\t1\\t1\\t1\\t0\\t1\\t\\r\\n[1] Training Codebook 45.\\r\\n[1] Lambda:min(inf,4.23499e-07) Max:1 Min:0 Avg:0.390625 Std/Avg:1.249000 Dist:0.000000 NonZero/Total:100/256\\r\\n1\\t1\\t1\\t1\\t1\\t1\\t1\\t1\\t0\\t0\\t0\\t0\\t0\\t0\\t1\\t0\\t0\\t1\\t0\\t0\\t0\\t1\\t1\\t1\\t0\\t0\\t1\\t0\\t1\\t0\\t0\\t1\\t0\\t1\\t1\\t0\\t0\\t0\\t0\\t0\\t0\\t0\\t1\\t0\\t0\\t0\\t0\\t1\\t1\\t0\\t0\\t0\\t1\\t1\\t0\\t1\\t0\\t0\\t1\\t1\\t0\\t1\\t0\\t1\\t0\\t0\\t0\\t0\\t0\\t1\\t1\\t1\\t1\\t0\\t1\\t0\\t0\\t0\\t1\\t0\\t1\\t0\\t0\\t0\\t1\\t0\\t0\\t0\\t0\\t1\\t1\\t1\\t1\\t0\\t1\\t1\\t1\\t0\\t0\\t0\\t1\\t1\\t0\\t0\\t0\\t1\\t1\\t1\\t0\\t0\\t1\\t1\\t1\\t0\\t0\\t1\\t1\\t0\\t0\\t0\\t1\\t1\\t0\\t0\\t0\\t1\\t0\\t0\\t0\\t0\\t0\\t1\\t0\\t1\\t0\\t0\\t1\\t1\\t1\\t0\\t0\\t0\\t0\\t1\\t1\\t1\\t1\\t0\\t0\\t1\\t1\\t1\\t0\\t0\\t0\\t1\\t0\\t1\\t1\\t0\\t0\\t0\\t0\\t0\\t0\\t0\\t0\\t0\\t1\\t0\\t0\\t0\\t1\\t1\\t1\\t0\\t1\\t1\\t1\\t0\\t0\\t0\\t0\\t0\\t1\\t0\\t0\\t0\\t0\\t0\\t1\\t0\\t1\\t0\\t0\\t0\\t0\\t1\\t1\\t0\\t0\\t1\\t1\\t0\\t1\\t0\\t1\\t0\\t1\\t0\\t1\\t1\\t0\\t0\\t0\\t0\\t0\\t0\\t0\\t1\\t0\\t0\\t0\\t1\\t1\\t1\\t1\\t0\\t0\\t0\\t0\\t0\\t0\\t1\\t0\\t0\\t1\\t0\\t1\\t0\\t0\\t1\\t0\\t0\\t0\\t0\\t0\\t0\\t0\\t0\\t0\\t0\\t0\\t0\\t0\\t1\\t\\r\\n\\r\\n[1] Training Codebook 35.\\r\\n[1] Lambda:min(inf,1.50134e-07) Max:2 Min:0 Avg:0.390625 Std/Avg:1.269331 Dist:0.000004 NonZero/Total:99/256\\r\\n1\\t1\\t1\\t1\\t1\\t1\\t0\\t0\\t0\\t1\\t1\\t1\\t0\\t0\\t0\\t0\\t0\\t0\\t1\\t1\\t0\\t0\\t0\\t0\\t0\\t1\\t0\\t0\\t0\\t0\\t0\\t0\\t0\\t0\\t0\\t0\\t0\\t0\\t1\\t0\\t0\\t0\\t0\\t0\\t0\\t1\\t1\\t0\\t0\\t0\\t1\\t1\\t0\\t1\\t0\\t0\\t0\\t0\\t0\\t0\\t0\\t0\\t1\\t1\\t0\\t0\\t1\\t0\\t1\\t0\\t0\\t1\\t0\\t1\\t0\\t0\\t1\\t0\\t0\\t1\\t1\\t0\\t1\\t1\\t0\\t0\\t1\\t0\\t1\\t1\\t1\\t1\\t1\\t0\\t0\\t1\\t0\\t0\\t0\\t0\\t0\\t1\\t0\\t0\\t0\\t1\\t0\\t1\\t0\\t0\\t1\\t0\\t1\\t0\\t1\\t1\\t0\\t1\\t0\\t1\\t1\\t0\\t0\\t0\\t2\\t1\\t0\\t1\\t1\\t1\\t0\\t1\\t1\\t1\\t0\\t1\\t0\\t1\\t0\\t0\\t1\\t0\\t0\\t1\\t1\\t1\\t0\\t0\\t0\\t0\\t0\\t1\\t0\\t1\\t1\\t1\\t0\\t0\\t1\\t0\\t1\\t1\\t1\\t0\\t0\\t0\\t1\\t0\\t1\\t1\\t0\\t1\\t0\\t1\\t1\\t1\\t1\\t0\\t0\\t0\\t0\\t0\\t0\\t0\\t0\\t0\\t1\\t0\\t0\\t0\\t0\\t0\\t0\\t0\\t0\\t1\\t0\\t0\\t1\\t1\\t1\\t0\\t1\\t0\\t1\\t1\\t0\\t0\\t0\\t1\\t0\\t1\\t0\\t0\\t0\\t0\\t0\\t0\\t1\\t1\\t0\\t1\\t0\\t1\\t0\\t1\\t0\\t0\\t1\\t0\\t1\\t0\\t0\\t0\\t1\\t0\\t0\\t0\\t0\\t1\\t0\\t1\\t0\\t0\\t1\\t0\\t0\\t0\\t0\\t0\\t0\\t1\\t0\\t0\\t0\\t1\\t\\r\\n\\r\\n[1] Training Codebook 31.\\r\\n[1] Lambda:min(inf,3.34456e-07) Max:1 Min:0 Avg:0.390625 Std/Avg:1.249000 Dist:0.000000 NonZero/Total:100/256\\r\\n1\\t1\\t1\\t1\\t1\\t1\\t1\\t0\\t0\\t1\\t1\\t1\\t0\\t0\\t0\\t0\\t0\\t0\\t1\\t1\\t0\\t0\\t0\\t0\\t0\\t1\\t0\\t0\\t0\\t0\\t0\\t0\\t0\\t0\\t0\\t0\\t0\\t0\\t1\\t0\\t0\\t0\\t0\\t0\\t0\\t1\\t1\\t0\\t0\\t0\\t1\\t1\\t0\\t1\\t0\\t0\\t0\\t0\\t0\\t0\\t0\\t0\\t1\\t1\\t0\\t0\\t1\\t0\\t1\\t0\\t0\\t1\\t0\\t1\\t0\\t0\\t1\\t0\\t0\\t1\\t1\\t0\\t1\\t1\\t0\\t0\\t1\\t0\\t1\\t1\\t1\\t1\\t1\\t0\\t0\\t1\\t0\\t0\\t0\\t0\\t0\\t1\\t0\\t0\\t1\\t1\\t0\\t1\\t0\\t0\\t1\\t0\\t1\\t0\\t1\\t1\\t0\\t1\\t0\\t1\\t1\\t0\\t0\\t0\\t1\\t1\\t0\\t1\\t1\\t1\\t0\\t1\\t1\\t1\\t0\\t1\\t0\\t1\\t0\\t0\\t1\\t0\\t0\\t1\\t1\\t1\\t0\\t0\\t0\\t0\\t0\\t1\\t0\\t1\\t1\\t1\\t0\\t0\\t1\\t0\\t1\\t1\\t1\\t0\\t0\\t0\\t1\\t0\\t1\\t1\\t0\\t1\\t0\\t1\\t1\\t1\\t1\\t0\\t0\\t0\\t0\\t0\\t0\\t0\\t0\\t0\\t1\\t0\\t0\\t0\\t0\\t0\\t0\\t0\\t0\\t1\\t0\\t0\\t1\\t1\\t1\\t0\\t1\\t0\\t1\\t1\\t0\\t0\\t0\\t1\\t0\\t1\\t0\\t0\\t0\\t0\\t0\\t0\\t1\\t1\\t0\\t1\\t0\\t0\\t0\\t1\\t0\\t0\\t1\\t0\\t1\\t0\\t0\\t0\\t1\\t0\\t0\\t0\\t0\\t1\\t0\\t1\\t0\\t0\\t1\\t0\\t0\\t0\\t0\\t0\\t0\\t1\\t0\\t0\\t0\\t1\\t\\r\\n[1] Training Codebook 9.\\r\\n[1] Lambda:min(inf,5.03119e-07) Max:1 Min:0 Avg:0.390625 Std/Avg:1.249000 Dist:0.000000 NonZero/Total:100/256\\r\\n1\\t1\\t1\\t1\\t1\\t1\\t1\\t1\\t1\\t0\\t0\\t0\\t1\\t0\\t1\\t1\\t0\\t0\\t0\\t0\\t0\\t1\\t0\\t1\\t0\\t0\\t0\\t0\\t0\\t0\\t1\\t1\\t1\\t0\\t0\\t0\\t1\\t0\\t0\\t0\\t0\\t0\\t0\\t0\\t1\\t0\\t1\\t0\\t0\\t1\\t0\\t0\\t1\\t1\\t1\\t1\\t0\\t0\\t0\\t0\\t1\\t0\\t0\\t0\\t1\\t0\\t1\\t1\\t1\\t1\\t0\\t0\\t1\\t0\\t0\\t1\\t0\\t0\\t0\\t0\\t0\\t0\\t1\\t1\\t0\\t1\\t1\\t0\\t1\\t1\\t0\\t1\\t0\\t0\\t0\\t0\\t0\\t1\\t1\\t1\\t1\\t0\\t1\\t1\\t1\\t0\\t0\\t0\\t0\\t0\\t0\\t1\\t0\\t1\\t0\\t1\\t0\\t0\\t0\\t1\\t1\\t0\\t0\\t1\\t1\\t1\\t0\\t0\\t1\\t1\\t0\\t0\\t1\\t0\\t0\\t0\\t0\\t0\\t1\\t0\\t1\\t1\\t0\\t0\\t0\\t0\\t1\\t0\\t0\\t0\\t1\\t1\\t0\\t1\\t1\\t0\\t1\\t0\\t0\\t0\\t0\\t0\\t1\\t1\\t0\\t0\\t1\\t1\\t0\\t1\\t1\\t1\\t0\\t1\\t1\\t1\\t1\\t0\\t1\\t1\\t0\\t0\\t0\\t0\\t0\\t0\\t0\\t1\\t0\\t0\\t0\\t0\\t0\\t0\\t0\\t0\\t0\\t1\\t1\\t0\\t0\\t0\\t0\\t1\\t1\\t1\\t0\\t0\\t0\\t0\\t1\\t0\\t1\\t0\\t1\\t0\\t0\\t0\\t0\\t0\\t0\\t1\\t1\\t0\\t0\\t1\\t0\\t0\\t0\\t0\\t0\\t0\\t1\\t0\\t1\\t0\\t1\\t0\\t0\\t1\\t1\\t0\\t0\\t0\\t0\\t0\\t1\\t0\\t0\\t0\\t1\\t0\\t0\\t0\\t1\\t0\\t\\r\\n[1] Lambda:min(inf,5.66729e-07) Max:1 Min:0 Avg:0.390625 Std/Avg:1.249000 Dist:0.000000 NonZero/Total:100/256\\r\\n[1] Lambda:min(inf,3.86424e-07) Max:1 Min:0 Avg:0.390625 Std/Avg:1.249000 Dist:0.000000 NonZero/Total:100/256\\r\\n1\\t1\\t1\\t1\\t1\\t1\\t0\\t1\\t0\\t0\\t1\\t1\\t1\\t1\\t1\\t1\\t1\\t1\\t1\\t0\\t0\\t1\\t0\\t1\\t1\\t0\\t0\\t0\\t0\\t0\\t1\\t0\\t1\\t0\\t0\\t0\\t0\\t0\\t0\\t1\\t1\\t1\\t0\\t0\\t0\\t1\\t0\\t0\\t0\\t00\\t0\\t\\t0\\t0\\t0\\t0\\t0\\t0\\t1\\t1\\t0\\t1\\t1\\t1\\t0\\t0\\t1\\t0\\t0\\t0\\t0\\t0\\t0\\t1\\t0\\t0\\t1\\t0\\t0\\t0\\t1\\t1\\t0\\t0\\t0\\t0\\t0\\t1\\t1\\t0\\t0\\t0\\t0\\t1\\t0\\t0\\t1\\t0\\t1\\t0\\t1\\t0\\t1\\t1\\t1\\t1\\t0\\t0\\t1\\t0\\t0\\t0\\t0\\t0\\t0\\t0\\t0\\t0\\t0\\t0\\t0\\t1\\t0\\t0\\t1\\t0\\t0\\t1\\t1\\t10\\t1\\t0\\t1\\t0\\t1\\t1\\t1\\t1\\t1\\t1\\t1\\t0\\t0\\t0\\t0\\t0\\t1\\t0\\t0\\t1\\t0\\t1\\t0\\t0\\t0\\t1\\t1\\t1\\t0\\t0\\t1\\t1\\t0\\t1\\t0\\t\\t0\\t1\\t1\\t0\\t1\\t0\\t1\\t0\\t0\\t0\\t1\\t1\\t0\\t0\\t0\\t0\\t1\\t0\\t1\\t1\\t0\\t1\\t1\\t0\\t1\\t1\\t0\\t0\\t1\\t0\\t0\\t1\\t0\\t1\\t1\\t0\\t0\\t0\\t[1] 0\\t0\\t1\\t1\\t1\\t1\\t1\\t0\\t0\\t1\\t0\\t1\\t0\\t1\\t1\\t0\\t1\\t0\\t0\\t1\\t1\\t0\\t0\\t0\\t1\\t01\\t0\\t1\\t0\\t0\\t1\\t0\\t0\\t1\\t\\t1\\t0\\t0\\t1\\t0\\t0\\t1\\t0\\t0\\t0\\t0\\t1Lambda:min(inf,1.73662e-07) Max:1 Min:0 Avg:0.390625 Std/Avg:1.249000 Dist:0.000000 NonZero/Total:100/256\\r\\n\\t011\\t1\\t\\t1\\t1\\t0\\t0\\t0\\t0\\t1\\t0\\t0\\t0\\t1\\t0\\t1\\t1\\t11\\t1\\t1\\t1\\t1\\t1\\t1\\t1\\t1\\t0\\t0\\t1\\t0\\t0\\t1\\t0\\t0\\t0\\t0\\t0\\t0\\t1\\t1\\t0\\t1\\t1\\t0\\t1\\t1\\t1\\t0\\t0\\t1\\t0\\t0\\t0\\t0\\t0\\t1\\t1\\t1\\t1\\t0\\t\\t\\t0\\t0\\t0\\t0\\t0\\t1\\t0\\t1\\t0\\t0\\t1\\t0\\t1\\t0\\t00\\t0\\t\\t0\\t0\\t1\\t0\\t0\\t0\\t0\\t1\\t1\\t00\\t0\\t0\\t1\\t0\\t0\\t1\\t0\\t0\\t0\\t0\\t0\\t0\\t1\\t0\\t0\\t1\\t0\\t0\\t0\\t1\\t0\\t0\\t0\\t0\\t01\\t1\\t1\\t0\\t0\\t0\\t0\\t0\\t0\\t1\\t0\\t1\\t0\\t1\\t0\\t0\\t0\\t1\\t1\\t0\\t0\\t1\\t\\t0\\t0\\t0\\t0\\t1\\t1\\t0\\t0\\t1\\t1\\t0\\t0\\t1\\t0\\t0\\t0\\t0\\t0\\t1\\t0\\t1\\t0\\t1\\t0\\t1\\t1\\t1\\t0\\t1\\r\\n\\t0\\t1\\t1\\t0\\t0\\t0\\t0\\t0\\t0\\t0\\t0\\t0\\t1\\t1\\t0\\t1\\t1\\t0\\t1\\t1\\t0\\t0\\t0\\t\\t0\\t0\\t00\\t0\\t1\\t0\\t0\\t0\\t1\\t1\\t0\\t1\\t1\\t0\\t1\\t0\\t0\\t0\\t0\\t0\\t1\\t1\\t0\\t0\\t1\\t1\\t0\\t1\\t1\\t1\\t0\\t1\\t1\\t1\\t1\\t0\\t1\\t1\\t0\\t0\\t0\\t0\\t0[1] \\t0\\tTraining Codebook 36.\\r\\n\\t0\\t0\\t0\\t0\\t0\\t0\\t0\\t0\\t1\\t0\\t1\\t1\\t1\\t1\\t0\\t0\\t0\\t1\\t1\\t0\\t1\\t1\\t0\\t00\\t1\\t\\t0\\t0\\t0\\t0\\t0\\t0\\t1\\t0\\t1\\t1\\t0\\t1\\t1\\t1\\t0\\t1\\t0\\t1\\t0\\t1\\t1\\t1\\t0\\t1\\t0\\t0\\t1\\t1\\t0\\t1\\t0\\t0\\t1\\t0\\t0\\t1\\t1\\t0\\t0\\t1\\t0\\t1\\t1\\t1\\t1\\t1\\t0\\t0\\t0\\t0\\t0\\t0\\t0\\t0\\t0\\t0\\t0\\t0\\t0\\t0\\t0\\t1\\t1\\t1\\t0\\t0\\t1\\t0\\t1\\t0\\t0\\t1\\t0\\t1\\t0\\t0\\t1\\t1\\t1\\t0\\t1\\t0\\t1\\t1\\t0\\t1\\t1\\t1\\t1\\t1\\t0\\t1\\t0\\t0\\t1\\t0\\t0\\t1\\t0\\t1\\t0\\t0\\t0\\t0\\t0\\t0\\t0\\t0\\t1\\t0\\t0\\t0\\t0\\t0\\t0\\t1\\t1\\t0\\t1\\t0\\t0\\t1\\t0\\t0\\t1\\t0\\t1\\t0\\t1\\t0\\t0\\t1\\t0\\t1\\t0\\t1\\t1\\t1\\t0\\t0\\t0\\t1\\t0\\t0\\t0\\t1\\t0\\t0\\t0\\t0\\t0\\t0\\t0\\t00\\t0\\t0\\t0\\t1\\t0\\t1\\t0\\t0\\t0\\t0\\t1\\t1\\t0\\t0\\t1\\t0\\t0\\t0\\t1\\t0\\t1\\t0\\t0\\t1\\t0\\t0\\t0\\t1\\t0\\t0\\t0\\t1\\t0\\t\\t\\r\\n1\\t0\\t0\\t0\\t0\\t0\\t0\\t0\\t0\\t0\\t1\\t1\\t0\\t0\\t0\\t0\\t0\\t1\\t1\\t0\\t0\\t0\\t0\\t1\\t0\\t1\\t0\\t1\\t0\\t0\\t0\\t0\\t0\\t0\\t1\\t1\\t0\\t0\\t1\\t0\\t0\\t0\\t0\\t0\\t0\\t1\\t0\\t1\\t0\\t1\\t0\\t0\\t1\\t1\\t0\\t0\\t0\\t0\\t0\\t1\\t0\\t0\\t0\\t1\\t0\\t0\\t0\\t1\\t0\\t\\r\\n[1] Lambda:min(inf,8.0298e-07) Max:1 Min:0 Avg:0.390625 Std/Avg:1.249000 Dist:0.000000 NonZero/Total:100/256\\r\\n[1] Training Codebook 3.\\r\\n1\\t1\\t1\\t1\\t1\\t1\\t1\\t0\\t0\\t1\\t1\\t1\\t0\\t0\\t0\\t0\\t0\\t0\\t1\\t1\\t0\\t0\\t0\\t0\\t0\\t1\\t0\\t0\\t0\\t0\\t0\\t0\\t0\\t0\\t0\\t0\\t0\\t0\\t1\\t0\\t0\\t0\\t0\\t0\\t0\\t1\\t1\\t0\\t0\\t0\\t1\\t1\\t0\\t1\\t0\\t0\\t0\\t0\\t0\\t0\\t0\\t0\\t1\\t1\\t0\\t0\\t1\\t0\\t1\\t0\\t0\\t1\\t0\\t1\\t0\\t0\\t1\\t0\\t0\\t1\\t1\\t0\\t1\\t1\\t0\\t0\\t1\\t0\\t1\\t1\\t1\\t1\\t1\\t0\\t0\\t1\\t0\\t0\\t0\\t0\\t0\\t1\\t0\\t0\\t1\\t1\\t0\\t1\\t0\\t0\\t1\\t0\\t1\\t0\\t1\\t1\\t0\\t1\\t0\\t1\\t1\\t0\\t0\\t0\\t1\\t1\\t0\\t1\\t1\\t1\\t0\\t1\\t1\\t1\\t0\\t1\\t0\\t1\\t0\\t0\\t1\\t0\\t0\\t1\\t1\\t1\\t0\\t0\\t0\\t0\\t0\\t1\\t0\\t1\\t1\\t1\\t0\\t0\\t1\\t0\\t1\\t1\\t1\\t0\\t0\\t0\\t1\\t0\\t1\\t1\\t0\\t1\\t0\\t0\\t1\\t1\\t1\\t0\\t0\\t0\\t0\\t0\\t0\\t0\\t0\\t0\\t1\\t0\\t0\\t0\\t0\\t0\\t0\\t0\\t0\\t1\\t0\\t0\\t1\\t1\\t1\\t0\\t1\\t0\\t1\\t1\\t0\\t0\\t0\\t1\\t0\\t1\\t0\\t0\\t0\\t0\\t0\\t0\\t1\\t1\\t0\\t1\\t0\\t1\\t0\\t1\\t0\\t0\\t1\\t0\\t1\\t0\\t0\\t0\\t1\\t0\\t0\\t0\\t0\\t1\\t0\\t1\\t0\\t0\\t1\\t0\\t0\\t0\\t0\\t0\\t0\\t1\\t0\\t0\\t0\\t1\\t\\r\\n[1] Lambda:min(inf,6.40324e-07) Max:1 Min:0 Avg:0.390625 Std/Avg:1.249000 Dist:0.000000 NonZero/Total:100/256\\r\\n1\\t1\\t1\\t1\\t1\\t1\\t1\\t1\\t1\\t1\\t0\\t0\\t0\\t0\\t0\\t0\\t0\\t1\\t0\\t0\\t0\\t0\\t0\\t0\\t0\\t0\\t0\\t1\\t0\\t0\\t0\\t0\\t0\\t1\\t0\\t1\\t1\\t0\\t0\\t0\\t1\\t0\\t0\\t1\\t1\\t0\\t1\\t0\\t0\\t1\\t0\\t1\\t0\\t0\\t1\\t0\\t0\\t1\\t0\\t0\\t0\\t1\\t1\\t0\\t0\\t1\\t1\\t0\\t0\\t0\\t1\\t0\\t0\\t0\\t0\\t0\\t0\\t1\\t0\\t1\\t1\\t1\\t0\\t1\\t0\\t0\\t0\\t1\\t0\\t1\\t1\\t1\\t1\\t1\\t1\\t0\\t0\\t0\\t1\\t1\\t1\\t1\\t1\\t1\\t0\\t0\\t0\\t0\\t1\\t1\\t1\\t0\\t1\\t0\\t0\\t0\\t1\\t0\\t1\\t1\\t0\\t1\\t0\\t1\\t0\\t1\\t1\\t1\\t1\\t1\\t0\\t0\\t0\\t0\\t0\\t1\\t0\\t0\\t1\\t0\\t0\\t0\\t1\\t1\\t1\\t0\\t0\\t0\\t0\\t1\\t1\\t0\\t0\\t1\\t1\\t1\\t1\\t0\\t0\\t0\\t1\\t0\\t1\\t0\\t0\\t0\\t1\\t0\\t0\\t1\\t0\\t0\\t0\\t1\\t0\\t0\\t0\\t0\\t0\\t0\\t1\\t0\\t0\\t0\\t0\\t0\\t0\\t0\\t1\\t1\\t0\\t1\\t0\\t0\\t1\\t0\\t0\\t1\\t1\\t0\\t1\\t0\\t1\\t0\\t0\\t0\\t1\\t0\\t0\\t0\\t0\\t0\\t0\\t0\\t1\\t0\\t1\\t0\\t0\\t0\\t0\\t0\\t0\\t0\\t1\\t1\\t0\\t0\\t0\\t0\\t0\\t0\\t0\\t0\\t0\\t0\\t0\\t0\\t1\\t1\\t1\\t0\\t0\\t1\\t0\\t0\\t0\\t0\\t1\\t0\\t1\\t1\\t1\\t1\\t0\\t1\\t\\r\\n[1] Training Codebook 25.\\r\\n[1] Lambda:min(inf,6.54386e-07) Max:1 Min:0 Avg:0.390625 Std/Avg:1.249000 Dist:0.000000 NonZero/Total:100/256\\r\\n1\\t1\\t1\\t1\\t0\\t0\\t1\\t0\\t0\\t0\\t0\\t0\\t0\\t0\\t0\\t0\\t1\\t1\\t0\\t1\\t1\\t1\\t0\\t0\\t1\\t0\\t0\\t0\\t0\\t0\\t0\\t1\\t0\\t0\\t1\\t0\\t0\\t0\\t1\\t1\\t0\\t0\\t0\\t0\\t0\\t1\\t1\\t0\\t0\\t0\\t0\\t1\\t0\\t0\\t1\\t0\\t1\\t0\\t1\\t0\\t1\\t1\\t1\\t1\\t0\\t0\\t1\\t0\\t0\\t0\\t0\\t0\\t0\\t0\\t0\\t0\\t0\\t0\\t0\\t1\\t0\\t0\\t1\\t0\\t0\\t1\\t1\\t1\\t1\\t0\\t1\\t0\\t1\\t1\\t1\\t1\\t1\\t1\\t1\\t0\\t0\\t0\\t0\\t0\\t1\\t0\\t0\\t1\\t0\\t1\\t0\\t0\\t0\\t1\\t1\\t1\\t0\\t0\\t1\\t1\\t0\\t1\\t0\\t1\\t1\\t0\\t1\\t0\\t1\\t0\\t0\\t0\\t1\\t1\\t0\\t0\\t0\\t0\\t1\\t0\\t1\\t1\\t0\\t1\\t1\\t0\\t1\\t1\\t0\\t0\\t1\\t0\\t0\\t1\\t0\\t1\\t1\\t0\\t0\\t0\\t0\\t0\\t1\\t1\\t1\\t1\\t1\\t0\\t0\\t1\\t0\\t1\\t0\\t1\\t1\\t0\\t1\\t0\\t0\\t1\\t1\\t0\\t0\\t0\\t1\\t0\\t1\\t0\\t0\\t1\\t0\\t0\\t1\\t0\\t0\\t0\\t0\\t1\\t0\\t1\\t0\\t0\\t0\\t0\\t0\\t0\\t1\\t0\\t1\\t0\\t0\\t1\\t0\\t1\\t0\\t0\\t0\\t0\\t1\\t0\\t0\\t0\\t0\\t1\\t0\\t0\\t0\\t1\\t0\\t0\\t1\\t0\\t0\\t0\\t0\\t0\\t0\\t1\\t1\\t0\\t1\\t0\\t0\\t0\\t1\\t0\\t0\\t0\\t0\\t0\\t0\\t1\\t0\\t1\\t1\\t1\\t\\r\\n[1] Training Codebook 32.\\r\\n[1] Lambda:min(inf,5.05133e-07) Max:2 Min:0 Avg:0.390625 Std/Avg:1.269331 Dist:0.000000 NonZero/Total:99/256\\r\\n[1] Lambda:min(inf,9.56258e-07) Max:2 Min:0 Avg:0.390625 Std/Avg:1.269331 Dist:0.000003 NonZero/Total:99/256\\r\\n1\\t1\\t1\\t1\\t1\\t1\\t1\\t1\\t0\\t0\\t0\\t1\\t1\\t1\\t0\\t0\\t0\\t1\\t1\\t0\\t0\\t0\\t0\\t0\\t0\\t0\\t0\\t0\\t0\\t0\\t1\\t0\\t0\\t0\\t11\\t0\\t1\\t0\\t1\\t0\\t1\\t0\\t0\\t0\\t1\\t1\\t0\\t1\\t0\\t0\\t0\\t0\\t0\\t1\\t0\\t0\\t1\\t0\\t0\\t0\\t1\\t1\\t0\\t1\\t1\\t0\\t0\\t0\\t0\\t1\\t1\\t0\\t0\\t0\\t1\\t\\t0\\t0\\t0\\t0\\t0\\t1\\t0\\t0\\t1\\t0\\t1\\t1\\t0\\t1\\t1\\t0\\t0\\t1\\t0\\t0\\t1\\t1\\t1\\t1\\t1\\t0\\t0\\t0\\t0\\t1\\t1\\t0\\t0\\t0\\t1\\t0\\t0\\t1\\t0\\t1\\t0\\t1\\t2\\t0\\t0\\t0\\t0\\t0\\t1\\t1\\t0\\t0\\t1\\t0\\t0\\t0\\t0\\t1\\t0\\t1\\t1\\t0\\t01\\t1\\t1\\t1\\t1\\t1\\t0\\t0\\t0\\t0\\t0\\t\\t0\\t0\\t0\\t1\\t0\\t1\\t0\\t1\\t0\\t1\\t0\\t0\\t1\\t0\\t1\\t0\\t1\\t0\\t1\\t1\\t0\\t0\\t1\\t1\\t1\\t1\\t1\\t0\\t0\\t1\\t1\\t0\\t1\\t1\\t0\\t0\\t1\\t1\\t0\\t0\\t1\\t0\\t1\\t1\\t0\\t0\\t0\\t1\\t1\\t0\\t0\\t0\\t0\\t0\\t0\\t0\\t1\\t1\\t0\\t0\\t0\\t0\\t0\\t1\\t0\\t0\\t0\\t0\\t1\\t1\\t1\\t0\\t1\\t1\\t0\\t0\\t1\\t0\\t0\\t0\\t0\\t1\\t0\\t0\\t0\\t0\\t1\\t1\\t0\\t1\\t0\\t0\\t1\\t0\\t0\\t0\\t0\\t0\\t1\\t1\\t0\\t0\\t0\\t0\\t0\\t0\\t1\\t1\\t0\\t1\\t0\\t0\\t0\\t1\\t1\\t0\\t0\\t0\\t0\\t00\\t0\\t1\\t1\\t1\\t0\\t0\\t1\\t0\\t1\\t\\t0\\t0\\t0\\t0\\t1\\t0\\t0\\t1\\t0\\t1\\t1\\t0\\t0\\t0\\t0\\t0\\t0\\t0\\t1\\t0\\t0\\t0\\t0\\t1\\t1\\t0\\t0\\t0\\t1\\t1\\t0\\t1\\t0\\t0\\t0\\t1\\t0\\t1\\t0\\t1\\t0\\t0\\t0\\t0\\t0\\t1\\t1\\t1\\t1\\t0\\t1\\t0\\t0\\t0\\t1\\t0\\t1\\t0\\t0\\t0\\t1\\t0\\t0\\t0\\t0\\t1\\t1\\t1\\t1\\t0\\t1\\t1\\t1\\t0\\t0\\t0\\t1\\t1\\t0\\t0\\t0\\t1\\t1\\t1\\t0\\t0\\t1\\t1\\t1\\t0\\t0\\t1\\t1\\t0\\t0\\t0\\t1\\t1\\t0\\t0\\t0\\t1\\t0\\t0\\t0\\t0\\t0\\t1\\t0\\t1\\t0\\t0\\t1\\t1\\t1\\t0\\t0\\t0\\t0\\t2\\t1\\t1\\r\\n\\t1\\t0\\t0\\t1\\t1\\t1\\t0\\t0\\t0\\t1\\t0\\t1\\t1\\t0\\t0\\t0\\t0\\t0\\t0\\t0\\t0\\t0\\t1\\t0\\t0\\t0\\t1\\t1\\t1\\t0\\t1\\t1\\t1\\t0\\t0\\t0\\t0\\t0\\t1\\t0\\t0\\t0\\t0\\t0\\t1\\t0\\t1\\t0\\t0\\t0\\t0\\t1\\t1\\t0\\t0\\t1\\t1\\t0\\t1\\t0\\t1\\t0\\t1\\t0\\t0\\t1\\t0\\t0\\t0\\t0\\t[1] 0\\t0\\t0\\t1\\tTraining Codebook 37.\\r\\n0\\t0\\t0\\t1\\t1\\t1\\t1\\t0\\t0\\t0\\t0\\t0\\t0\\t1\\t0\\t0\\t1\\t0\\t1\\t0\\t0\\t1\\t1\\t0\\t0\\t0\\t0\\t0\\t0\\t0\\t0\\t0\\t0\\t0\\t0\\t1\\t\\r\\n[1] Training Codebook 4.\\r\\n[1] Lambda:min(inf,3.40206e-07) Max:1 Min:0 Avg:0.390625 Std/Avg:1.249000 Dist:0.000000 NonZero/Total:100/256\\r\\n1\\t1\\t1\\t1\\t1\\t1\\t1\\t1\\t0\\t0\\t0\\t1\\t1\\t1\\t0\\t0\\t0\\t1\\t1\\t0\\t0\\t0\\t0\\t0\\t0\\t0\\t0\\t0\\t0\\t0\\t1\\t0\\t0\\t0\\t1\\t0\\t1\\t0\\t1\\t0\\t1\\t0\\t0\\t0\\t1\\t1\\t0\\t1\\t0\\t0\\t0\\t0\\t0\\t1\\t0\\t0\\t1\\t0\\t0\\t0\\t1\\t1\\t0\\t1\\t1\\t0\\t0\\t0\\t0\\t1\\t1\\t0\\t0\\t0\\t0\\t0\\t0\\t0\\t0\\t1\\t0\\t0\\t1\\t0\\t1\\t1\\t0\\t1\\t1\\t0\\t0\\t1\\t0\\t0\\t1\\t1\\t1\\t1\\t1\\t0\\t0\\t0\\t0\\t1\\t1\\t0\\t0\\t0\\t1\\t0\\t0\\t1\\t0\\t1\\t0\\t1\\t1\\t0\\t0\\t0\\t0\\t0\\t1\\t1\\t0\\t0\\t1\\t0\\t0\\t0\\t0\\t1\\t0\\t1\\t1\\t0\\t0\\t0\\t0\\t0\\t1\\t0\\t1\\t0\\t1\\t0\\t1\\t0\\t0\\t1\\t0\\t1\\t0\\t1\\t0\\t1\\t1\\t0\\t0\\t1\\t1\\t1\\t1\\t1\\t0\\t0\\t1\\t1\\t1\\t1\\t1\\t0\\t0\\t1\\t1\\t0\\t0\\t1\\t0\\t1\\t1\\t0\\t0\\t0\\t1\\t1\\t0\\t0\\t0\\t0\\t0\\t0\\t0\\t1\\t1\\t0\\t0\\t0\\t0\\t0\\t1\\t0\\t0\\t0\\t0\\t1\\t1\\t1\\t0\\t1\\t0\\t0\\t0\\t1\\t0\\t0\\t0\\t0\\t1\\t0\\t0\\t0\\t0\\t1\\t1\\t0\\t0\\t0\\t0\\t1\\t1\\t0\\t0\\t0\\t0\\t0\\t0\\t1\\t1\\t0\\t1\\t0\\t0\\t1\\t1\\t1\\t0\\t0\\t0\\t0\\t0\\t0\\t0\\t0\\t0\\t1\\t\\r\\n[1] Training Codebook 33.\\r\\n[1] Lambda:min(inf,8.05497e-07) Max:2 Min:0 Avg:0.390625 Std/Avg:1.289341 Dist:0.000002 NonZero/Total:98/256\\r\\n1\\t1\\t1\\t1\\t1\\t1\\t1\\t1\\t1\\t0\\t0\\t0\\t1\\t0\\t1\\t1\\t0\\t0\\t0\\t0\\t0\\t1\\t0\\t1\\t0\\t0\\t0\\t0\\t0\\t0\\t1\\t1\\t1\\t0\\t0\\t0\\t1\\t0\\t0\\t0\\t0\\t0\\t0\\t0\\t1\\t0\\t1\\t0\\t0\\t1\\t0\\t0\\t1\\t1\\t1\\t1\\t0\\t0\\t0\\t0\\t1\\t0\\t0\\t0\\t1\\t0\\t1\\t1\\t1\\t1\\t0\\t0\\t1\\t0\\t0\\t1\\t0\\t0\\t0\\t0\\t0\\t0\\t1\\t2\\t0\\t1\\t1\\t0\\t1\\t1\\t0\\t1\\t0\\t0\\t0\\t0\\t0\\t1\\t1\\t1\\t1\\t0\\t1\\t1\\t1\\t0\\t0\\t0\\t0\\t0\\t0\\t1\\t0\\t1\\t0\\t1\\t0\\t0\\t0\\t1\\t1\\t0\\t0\\t1\\t1\\t1\\t0\\t0\\t2\\t1\\t0\\t0\\t1\\t0\\t0\\t0\\t0\\t0\\t1\\t0\\t1\\t1\\t0\\t0\\t0\\t0\\t1\\t0\\t0\\t0\\t1\\t1\\t0\\t1\\t1\\t0\\t1\\t0\\t0\\t0\\t0\\t0\\t1\\t1\\t0\\t0\\t1\\t1\\t0\\t1\\t1\\t1\\t0\\t1\\t1\\t1\\t1\\t0\\t1\\t0\\t0\\t0\\t0\\t0\\t0\\t0\\t0\\t0\\t0\\t0\\t0\\t0\\t0\\t0\\t0\\t0\\t0\\t1\\t1\\t0\\t0\\t0\\t0\\t1\\t1\\t1\\t0\\t0\\t0\\t0\\t1\\t0\\t1\\t0\\t1\\t0\\t0\\t0\\t0\\t0\\t0\\t1\\t1\\t0\\t0\\t1\\t0\\t0\\t0\\t0\\t0\\t0\\t1\\t0\\t1\\t0\\t1\\t0\\t0\\t1\\t1\\t0\\t0\\t0\\t0\\t0\\t1\\t0\\t0\\t0\\t1\\t0\\t0\\t0\\t1\\t0\\t\\r\\n[1] Lambda:min(inf,1.04354e-06) Max:2 Min:0 Avg:0.390625 Std/Avg:1.269331 Dist:0.000003 NonZero/Total:99/256\\r\\n1\\t1\\t1\\t1\\t1\\t1\\t0\\t0\\t0\\t1\\t1\\t1\\t0\\t0\\t0\\t0\\t0\\t0\\t1\\t1\\t0\\t0\\t0\\t0\\t0\\t1\\t0\\t0\\t0\\t0\\t0\\t0\\t0\\t0\\t0\\t0\\t0\\t0\\t1\\t0\\t0\\t0\\t0\\t0\\t0\\t1\\t1\\t0\\t0\\t0\\t1\\t1\\t0\\t1\\t0\\t0\\t0\\t0\\t0\\t0\\t0\\t0\\t1\\t1\\t0\\t0\\t1\\t0\\t1\\t0\\t0\\t1\\t0\\t1\\t0\\t0\\t1\\t0\\t0\\t1\\t1\\t0\\t1\\t1\\t0\\t0\\t1\\t0\\t1\\t1\\t1\\t1\\t1\\t0\\t0\\t1\\t0\\t0\\t0\\t0\\t0\\t1\\t0\\t0\\t1\\t1\\t0\\t1\\t0\\t0\\t1\\t0\\t1\\t0\\t1\\t1\\t0\\t1\\t0\\t1\\t1\\t0\\t0\\t0\\t1\\t1\\t0\\t1\\t1\\t1\\t0\\t1\\t1\\t1\\t0\\t1\\t0\\t1\\t0\\t0\\t1\\t0\\t0\\t1\\t1\\t1\\t0\\t0\\t0\\t0\\t0\\t1\\t0\\t1\\t1\\t1\\t0\\t0\\t1\\t0\\t1\\t1\\t1\\t0\\t0\\t0\\t1\\t0\\t1\\t1\\t0\\t1\\t0\\t1\\t1\\t1\\t1\\t0\\t0\\t0\\t0\\t0\\t0\\t0\\t0\\t0\\t1\\t0\\t0\\t0\\t0\\t0\\t0\\t0\\t0\\t1\\t0\\t0\\t1\\t1\\t1\\t0\\t1\\t0\\t2\\t1\\t0\\t0\\t0\\t1\\t0\\t1\\t0\\t0\\t0\\t0\\t0\\t0\\t1\\t1\\t0\\t1\\t0\\t1\\t0\\t1\\t0\\t0\\t1\\t0\\t1\\t0\\t0\\t0\\t0\\t0\\t0\\t0\\t0\\t1\\t0\\t1\\t0\\t0\\t1\\t0\\t0\\t0\\t0\\t0\\t0\\t1\\t0\\t0\\t0\\t1\\t\\r\\n[1] Lambda:min(inf,1.39506e-07) Max:1 Min:0 Avg:0.390625 Std/Avg:1.249000 Dist:0.000000 NonZero/Total:100/256\\r\\n1\\t1\\t1\\t1\\t1\\t1\\t1\\t1\\t1\\t1\\t0\\t0\\t0\\t0\\t0\\t1\\t0\\t0\\t0\\t0\\t0\\t0\\t0\\t0\\t0\\t0\\t0\\t0\\t0\\t0\\t1\\t0\\t0\\t0\\t0\\t0\\t1\\t0\\t0\\t0\\t0\\t0\\t0\\t1\\t0\\t1\\t0\\t0\\t1\\t1\\t1\\t0\\t0\\t0\\t0\\t0\\t0\\t1\\t0\\t0\\t0\\t0\\t0\\t1\\t1\\t1\\t1\\t1\\t0\\t0\\t1\\t0\\t1\\t0\\t1\\t1\\t0\\t1\\t0\\t1\\t1\\t0\\t0\\t0\\t0\\t1\\t1\\t1\\t0\\t1\\t0\\t1\\t1\\t1\\t1\\t0\\t0\\t1\\t1\\t1\\t0\\t0\\t1\\t1\\t1\\t0\\t0\\t1\\t1\\t1\\t1\\t0\\t1\\t0\\t0\\t1\\t0\\t0\\t1\\t1\\t0\\t1\\t0\\t1\\t1\\t0\\t1\\t1\\t0\\t1\\t0\\t0\\t0\\t1\\t0\\t0\\t1\\t1\\t1\\t0\\t0\\t0\\t1\\t0\\t0\\t0\\t0\\t0\\t0\\t1\\t0\\t1\\t0\\t1\\t0\\t0\\t1\\t1\\t0\\t0\\t0\\t0\\t1\\t0\\t1\\t0\\t1\\t0\\t0\\t1\\t0\\t1\\t1\\t1\\t0\\t0\\t1\\t0\\t1\\t0\\t0\\t1\\t1\\t0\\t0\\t1\\t0\\t0\\t0\\t1\\t0\\t0\\t0\\t0\\t0\\t0\\t0\\t0\\t0\\t0\\t1\\t0\\t1\\t1\\t0\\t0\\t0\\t1\\t1\\t0\\t0\\t1\\t0\\t1\\t0\\t0\\t1\\t0\\t0\\t0\\t1\\t0\\t1\\t0\\t0\\t1\\t1\\t0\\t1\\t0\\t0\\t0\\t0\\t0\\t0\\t0\\t0\\t0\\t0\\t0\\t0\\t0\\t1\\t1\\t0\\t0\\t0\\t0\\t1\\t0\\t1\\t1\\t0\\t0\\t0\\t0\\t\\r\\n[1] Lambda:min(inf,3.32749e-07) Max:2 Min:0 Avg:0.390625 Std/Avg:1.269331 Dist:0.000003 NonZero/Total:99/256\\r\\n1\\t1\\t1\\t1\\t1\\t1\\t0\\t0\\t0\\t1\\t1\\t1\\t0\\t0\\t0\\t0\\t0\\t0\\t1\\t1\\t0\\t0\\t0\\t0\\t0\\t1\\t0\\t0\\t0\\t0\\t0\\t0\\t0\\t0\\t0\\t0\\t0\\t0\\t1\\t0\\t0\\t0\\t0\\t0\\t0\\t1\\t1\\t0\\t0\\t0\\t1\\t1\\t0\\t1\\t0\\t0\\t0\\t0\\t0\\t0\\t0\\t0\\t1\\t1\\t0\\t0\\t1\\t0\\t1\\t0\\t0\\t1\\t0\\t1\\t0\\t0\\t1\\t0\\t0\\t1\\t1\\t0\\t1\\t1\\t0\\t0\\t1\\t0\\t1\\t1\\t1\\t1\\t1\\t0\\t0\\t1\\t0\\t0\\t0\\t0\\t0\\t1\\t0\\t0\\t1\\t1\\t0\\t1\\t0\\t0\\t1\\t0\\t1\\t0\\t1\\t2\\t0\\t1\\t0\\t1\\t1\\t0\\t0\\t0\\t1\\t1\\t0\\t1\\t1\\t1\\t0\\t1\\t1\\t1\\t0\\t1\\t0\\t1\\t0\\t0\\t1\\t0\\t0\\t1\\t1\\t1\\t0\\t0\\t0\\t0\\t0\\t1\\t0\\t1\\t1\\t1\\t0\\t0\\t1\\t0\\t1\\t1\\t1\\t0\\t0\\t0\\t1\\t0\\t1\\t1\\t0\\t1\\t0\\t1\\t1\\t1\\t1\\t0\\t0\\t0\\t0\\t0\\t0\\t0\\t0\\t0\\t1\\t0\\t0\\t0\\t0\\t0\\t0\\t0\\t0\\t1\\t0\\t0\\t1\\t1\\t1\\t0\\t1\\t0\\t1\\t1\\t0\\t0\\t0\\t1\\t0\\t1\\t0\\t0\\t0\\t0\\t0\\t0\\t1\\t1\\t0\\t1\\t0\\t1\\t0\\t0\\t0\\t0\\t1\\t0\\t1\\t0\\t0\\t0\\t1\\t0\\t0\\t0\\t0\\t1\\t0\\t1\\t0\\t0\\t1\\t0\\t0\\t0\\t0\\t0\\t0\\t1\\t0\\t0\\t0\\t1\\t\\r\\n[1] Lambda:min(inf,6.97758e-08) Max:1 Min:0 Avg:0.390625 Std/Avg:1.249000 Dist:0.000000 NonZero/Total:100/256\\r\\n1\\t1\\t1\\t1\\t1\\t1\\t1\\t1\\t0\\t0\\t0\\t0\\t1\\t0\\t0\\t0\\t0\\t0\\t0\\t1\\t0\\t1\\t0\\t0\\t0\\t1\\t1\\t0\\t0\\t0\\t0\\t1\\t0\\t1\\t0\\t0\\t0\\t0\\t0\\t1\\t1\\t1\\t0\\t0\\t0\\t1\\t0\\t0\\t0\\t0\\t0\\t0\\t0\\t0\\t0\\t0\\t1\\t0\\t1\\t0\\t1\\t0\\t1\\t0\\t0\\t1\\t1\\t1\\t0\\t0\\t1\\t1\\t0\\t0\\t0\\t1\\t1\\t1\\t0\\t0\\t0\\t1\\t0\\t1\\t0\\t0\\t0\\t0\\t0\\t1\\t1\\t0\\t1\\t0\\t1\\t1\\t1\\t1\\t1\\t1\\t1\\t0\\t1\\t0\\t0\\t1\\t1\\t1\\t0\\t1\\t1\\t1\\t0\\t1\\t0\\t1\\t0\\t0\\t0\\t1\\t0\\t1\\t0\\t1\\t1\\t0\\t0\\t0\\t1\\t0\\t0\\t0\\t1\\t1\\t1\\t0\\t1\\t1\\t1\\t1\\t0\\t1\\t0\\t0\\t1\\t0\\t0\\t1\\t1\\t0\\t1\\t0\\t0\\t0\\t1\\t0\\t0\\t0\\t0\\t0\\t0\\t0\\t1\\t0\\t0\\t0\\t1\\t0\\t0\\t0\\t0\\t0\\t0\\t0\\t1\\t1\\t0\\t0\\t1\\t0\\t0\\t1\\t0\\t1\\t1\\t0\\t0\\t1\\t1\\t1\\t1\\t0\\t1\\t0\\t0\\t1\\t0\\t0\\t0\\t1\\t0\\t0\\t1\\t0\\t0\\t0\\t0\\t0\\t0\\t0\\t0\\t0\\t0\\t0\\t1\\t0\\t0\\t1\\t1\\t0\\t0\\t0\\t1\\t0\\t1\\t0\\t0\\t1\\t1\\t0\\t1\\t1\\t0\\t1\\t1\\t0\\t0\\t0\\t0\\t0\\t0\\t0\\t0\\t0\\t0\\t1\\t1\\t0\\t0\\t0\\t0\\t1\\t0\\t0\\t0\\t0\\t\\r\\n[1] Saving quantizer: Subvectors:50 KsPerSubvector:256 DimPerSubvector:2\\r\\n'\n",
      "(100, 50)\n"
     ]
    }
   ],
   "source": [
    "import subprocess\n",
    "import struct\n",
    "import numpy as np\n",
    "\n",
    "cmd = \"Quantizer.exe -d %d -v Float -f DEFAULT -i sptag_index\\\\vectors.bin -o quan_doc_vectors.bin -oq quantizer.bin -qt PQQuantizer -qd %d -ts %d -norm true\" % (vector_dimension, int(vector_dimension / 2), vector_number)\n",
    "result = subprocess.check_output(cmd, stderr=subprocess.STDOUT)\n",
    "print (result) \n",
    "# For SPTAG index with quantization:\n",
    "#     Cosine distance: norm -> true and use L2 for index build\n",
    "#     L2 distance: norm -> false and use L2 for index build\n",
    "\n",
    "f = open('quan_doc_vectors.bin', 'rb')\n",
    "r = struct.unpack('i', f.read(4))[0]\n",
    "c = struct.unpack('i', f.read(4))[0]\n",
    "quan_x = np.frombuffer(f.read(r*c), dtype=np.uint8).reshape((r,c))\n",
    "print (quan_x.shape)"
   ]
  },
  {
   "cell_type": "code",
   "execution_count": 13,
   "metadata": {},
   "outputs": [
    {
     "data": {
      "text/plain": [
       "['deletes.bin',\n",
       " 'graph.bin',\n",
       " 'indexloader.ini',\n",
       " 'metadata.bin',\n",
       " 'metadataIndex.bin',\n",
       " 'quantizer.bin',\n",
       " 'tree.bin',\n",
       " 'vectors.bin']"
      ]
     },
     "execution_count": 13,
     "metadata": {},
     "output_type": "execute_result"
    }
   ],
   "source": [
    "import SPTAG\n",
    "\n",
    "index = SPTAG.AnnIndex('BKT', 'Float', int(vector_dimension / 2))\n",
    "\n",
    "# Set the thread number to speed up the build procedure in parallel \n",
    "index.SetBuildParam(\"NumberOfThreads\", '4', \"Index\")\n",
    "\n",
    "# Set the distance type. Currently SPTAG only support Cosine and L2 distances. Here Cosine distance is not the Cosine similarity. The smaller Cosine distance it is, the better.\n",
    "index.SetBuildParam(\"DistCalcMethod\", 'Cosine', \"Index\") \n",
    "\n",
    "if index.LoadQuantizer(\"quantizer.bin\") and index.BuildWithMetaData(quan_x, m, vector_number, False, False):\n",
    "    index.Save(\"quan_sptag_index\") # Save the index to the disk\n",
    "\n",
    "os.listdir('quan_sptag_index')"
   ]
  },
  {
   "cell_type": "code",
   "execution_count": 14,
   "metadata": {},
   "outputs": [
    {
     "name": "stdout",
     "output_type": "stream",
     "text": [
      "[676, 260, 701, 263, 285, 479, 520, 753, 764, 795, 890, 185, 607, 9, 137, 295, 398, 561, 569, 801, 846, 291, 89, 159]\n",
      "[0.10097091645002365, 4.623202303216714e+19, 4.623202303216714e+19, 2.58399095169963e+20, 2.58399095169963e+20, 2.58399095169963e+20, 2.58399095169963e+20, 2.58399095169963e+20, 2.58399095169963e+20, 2.58399095169963e+20, 2.58399095169963e+20, 1.7926470230357202e+22, 1.7926470230357202e+22, 6.847471932557632e+22, 6.847471932557632e+22, 6.847471932557632e+22, 6.847471932557632e+22, 6.847471932557632e+22, 6.847471932557632e+22, 6.847471932557632e+22, 6.847471932557632e+22, 6.858322905499818e+22, 6.8608197011332326e+22, 6.8608197011332326e+22]\n",
      "[b'676\\n', b'260\\n', b'701\\n', b'263\\n', b'285\\n', b'479\\n', b'520\\n', b'753\\n', b'764\\n', b'795\\n', b'890\\n', b'185\\n', b'607\\n', b'9\\n', b'137\\n', b'295\\n', b'398\\n', b'561\\n', b'569\\n', b'801\\n', b'846\\n', b'291\\n', b'89\\n', b'159\\n']\n"
     ]
    }
   ],
   "source": [
    "# Local index test on the vector search\n",
    "index = SPTAG.AnnIndex.Load('quan_sptag_index')\n",
    "index.SetQuantizerADC(True)\n",
    "result = index.SearchWithMetaData(q, 12) # Search k=3 nearest vectors for query vector q\n",
    "print (result[0]) # nearest k vector ids\n",
    "print (result[1]) # nearest k vector distances\n",
    "print (result[2]) # nearest k vector metadatas"
   ]
  },
  {
   "cell_type": "markdown",
   "metadata": {},
   "source": [
    "## Online serve the index\n",
    "\n",
    "Start the vector search service on the host machine which listens for the client requests on the port 8000\n",
    "\n",
    "> Write a server configuration file **service.ini** as follows:\n",
    "\n",
    "```bash\n",
    "[Service]\n",
    "ListenAddr=0.0.0.0\n",
    "ListenPort=8000\n",
    "ThreadNumber=8\n",
    "SocketThreadNumber=8\n",
    "\n",
    "[QueryConfig]\n",
    "DefaultMaxResultNumber=6\n",
    "DefaultSeparator=|\n",
    "\n",
    "[Index]\n",
    "List=MyIndex\n",
    "\n",
    "[Index_MyIndex]\n",
    "IndexFolder=sptag_index\n",
    "```\n",
    "\n",
    "> Start the server on the host machine\n",
    "\n",
    "```bash\n",
    "Server.exe -m socket -c service.ini\n",
    "```\n",
    "\n",
    "It will print the follow messages:\n",
    "\n",
    "```bash\n",
    "Setting TreeFilePath with value tree.bin\n",
    "Setting GraphFilePath with value graph.bin\n",
    "Setting VectorFilePath with value vectors.bin\n",
    "Setting DeleteVectorFilePath with value deletes.bin\n",
    "Setting BKTNumber with value 1\n",
    "Setting BKTKmeansK with value 32\n",
    "Setting BKTLeafSize with value 8\n",
    "Setting Samples with value 1000\n",
    "Setting TPTNumber with value 32\n",
    "Setting TPTLeafSize with value 2000\n",
    "Setting NumTopDimensionTpTreeSplit with value 5\n",
    "Setting NeighborhoodSize with value 32\n",
    "Setting GraphNeighborhoodScale with value 2\n",
    "Setting GraphCEFScale with value 2\n",
    "Setting RefineIterations with value 2\n",
    "Setting CEF with value 1000\n",
    "Setting MaxCheckForRefineGraph with value 8192\n",
    "Setting NumberOfThreads with value 4\n",
    "Setting DistCalcMethod with value Cosine\n",
    "Setting DeletePercentageForRefine with value 0.400000\n",
    "Setting AddCountForRebuild with value 1000\n",
    "Setting MaxCheck with value 8192\n",
    "Setting ThresholdOfNumberOfContinuousNoBetterPropagation with value 3\n",
    "Setting NumberOfInitialDynamicPivots with value 50\n",
    "Setting NumberOfOtherDynamicPivots with value 4\n",
    "Load Vector From sptag_index\\vectors.bin\n",
    "Load Vector (100, 10) Finish!\n",
    "Load BKT From sptag_index\\tree.bin\n",
    "Load BKT (1,101) Finish!\n",
    "Load Graph From sptag_index\\graph.bin\n",
    "Load Graph (100, 32) Finish!\n",
    "Load DeleteID From sptag_index\\deletes.bin\n",
    "Load DeleteID (100, 1) Finish!\n",
    "Start to listen 0.0.0.0:8000 ...\n",
    "```\n",
    "\n",
    "> Start python client to connect to the server and send vector search request."
   ]
  },
  {
   "cell_type": "code",
   "execution_count": 4,
   "metadata": {},
   "outputs": [
    {
     "name": "stdout",
     "output_type": "stream",
     "text": [
      "[15, 35, 75]\n",
      "[-1.094923973083496, -1.0913333892822266, -1.0795197486877441]\n",
      "['15\\n', '35\\n', '75\\n']\n"
     ]
    }
   ],
   "source": [
    "import SPTAGClient\n",
    "import time\n",
    "\n",
    "# connect to the server\n",
    "client = SPTAGClient.AnnClient('127.0.0.1', '8000')\n",
    "while not client.IsConnected():\n",
    "    time.sleep(1)\n",
    "client.SetTimeoutMilliseconds(18000)\n",
    "\n",
    "k = 3\n",
    "vector_dimension = 10\n",
    "# prepare query vector\n",
    "q = np.random.rand(vector_dimension).astype(np.float32)\n",
    "\n",
    "result = client.Search(q, k, 'Float', True) # AnnClient.Search(query_vector, knn, data_type, with_metadata)\n",
    "\n",
    "print (result[0]) # nearest k vector ids\n",
    "print (result[1]) # nearest k vector distances\n",
    "print (result[2]) # nearest k vector metadatas\n",
    "\n"
   ]
  }
 ],
 "metadata": {
  "file_extension": ".py",
  "interpreter": {
   "hash": "955b5dbf1c9568fcdca6427b82ed9dd3b5652756bab72d537c2112a7dd2607f3"
  },
  "kernelspec": {
   "display_name": "Python 3 (ipykernel)",
   "language": "python",
   "name": "python3"
  },
  "language_info": {
   "codemirror_mode": {
    "name": "ipython",
    "version": 3
   },
   "file_extension": ".py",
   "mimetype": "text/x-python",
   "name": "python",
   "nbconvert_exporter": "python",
   "pygments_lexer": "ipython3",
   "version": "3.9.5"
  },
  "mimetype": "text/x-python",
  "name": "python",
  "npconvert_exporter": "python",
  "pygments_lexer": "ipython2",
  "version": 2
 },
 "nbformat": 4,
 "nbformat_minor": 2
}
