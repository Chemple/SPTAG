{
  "cells": [
    {
      "cell_type": "markdown",
      "metadata": {},
      "source": [
        "# SPTAG python wrapper tutorial \n",
        "\n",
        "To end-to-end build a vector search online service, it contains two steps:\n",
        "- Offline build SPTAG index for database vectors\n",
        "- Online serve the index to support vector search requests from the clients\n",
        "\n",
        "## Offline build SPTAG index\n",
        "\n",
        "> Prepare input vectors and metadatas for SPTAG"
      ]
    },
    {
      "cell_type": "code",
      "execution_count": 9,
      "metadata": {},
      "outputs": [],
      "source": [
        "import os\n",
        "import numpy as np\n",
        "\n",
        "vector_number = 1000\n",
        "vector_dimension = 100\n",
        "\n",
        "# Randomly generate the database vectors. Currently SPTAG only support int8, int16 and float32 data type.\n",
        "x = np.random.rand(vector_number, vector_dimension).astype(np.float32) \n",
        "\n",
        "# Prepare metadata for each vectors, separate them by '\\n'. Currently SPTAG python wrapper only support '\\n' as the separator\n",
        "m = ''\n",
        "for i in range(vector_number):\n",
        "    m += str(i) + '\\n'"
      ]
    },
    {
      "cell_type": "markdown",
      "metadata": {},
      "source": [
        "> Build SPTAG index for database vectors **x**"
      ]
    },
    {
      "cell_type": "code",
      "execution_count": 10,
      "metadata": {},
      "outputs": [
        {
          "data": {
            "text/plain": [
              "['deletes.bin',\n",
              " 'graph.bin',\n",
              " 'indexloader.ini',\n",
              " 'metadata.bin',\n",
              " 'metadataIndex.bin',\n",
              " 'tree.bin',\n",
              " 'vectors.bin']"
            ]
          },
          "execution_count": 10,
          "metadata": {},
          "output_type": "execute_result"
        }
      ],
      "source": [
        "import SPTAG\n",
        "\n",
        "index = SPTAG.AnnIndex('BKT', 'Float', vector_dimension)\n",
        "\n",
        "# Set the thread number to speed up the build procedure in parallel \n",
        "index.SetBuildParam(\"NumberOfThreads\", '4', \"Index\")\n",
        "\n",
        "# Set the distance type. Currently SPTAG only support Cosine and L2 distances. Here Cosine distance is not the Cosine similarity. The smaller Cosine distance it is, the better.\n",
        "index.SetBuildParam(\"DistCalcMethod\", 'Cosine', \"Index\") \n",
        "\n",
        "if index.BuildWithMetaData(x, m, vector_number, False, False):\n",
        "    index.Save(\"sptag_index\") # Save the index to the disk\n",
        "\n",
        "os.listdir('sptag_index')"
      ]
    },
    {
      "cell_type": "code",
      "execution_count": 11,
      "metadata": {},
      "outputs": [
        {
          "name": "stdout",
          "output_type": "stream",
          "text": [
            "[670, 89, 227]\n",
            "[-3.6254849433898926, -3.622129440307617, -3.5978684425354004]\n",
            "[b'670\\n', b'89\\n', b'227\\n']\n"
          ]
        }
      ],
      "source": [
        "# Local index test on the vector search\n",
        "index = SPTAG.AnnIndex.Load('sptag_index')\n",
        "\n",
        "# prepare query vector\n",
        "q = np.random.rand(vector_dimension).astype(np.float32)\n",
        "\n",
        "result = index.SearchWithMetaData(q, 3) # Search k=3 nearest vectors for query vector q\n",
        "print (result[0]) # nearest k vector ids\n",
        "print (result[1]) # nearest k vector distances\n",
        "print (result[2]) # nearest k vector metadatas"
      ]
    },
    {
      "cell_type": "markdown",
      "metadata": {},
      "source": [
        "> Build SPTAG index for database vector **x** with PQ quantization"
      ]
    },
    {
      "cell_type": "code",
      "execution_count": 12,
      "metadata": {},
      "outputs": [
        {
          "name": "stdout",
          "output_type": "stream",
          "text": [
            "b'[1] Using AVX2 InstructionSet!\\r\\n[1] Normalizing vectors.\\r\\n[1] Loading quantizer of type PQQuantizer with reconstructtype Float.\\r\\n[1] Loading Quantizer.\\r\\n[1] After read subvecs: 5.\\r\\n[1] After read ks: 256.\\r\\n[1] After read dim: 2.\\r\\n[1] sizeof(T): 4.\\r\\n[1] After read codebooks.\\r\\n[1] Loaded quantizer: Subvectors:5 KsPerSubvector:256 DimPerSubvector:2\\r\\n'\n",
            "(1000, 50)\n"
          ]
        }
      ],
      "source": [
        "import subprocess\n",
        "import struct\n",
        "import numpy as np\n",
        "\n",
        "cmd = \"Quantizer.exe -d %d -v Float -f DEFAULT -i sptag_index\\\\vectors.bin -o quan_doc_vectors.bin -oq quantizer.bin -qt PQQuantizer -qd %d -ts %d -norm true\" % (vector_dimension, int(vector_dimension / 2), vector_number)\n",
        "result = subprocess.check_output(cmd, stderr=subprocess.STDOUT)\n",
        "print (result) \n",
        "# For SPTAG index with quantization:\n",
        "#     Cosine distance: norm -> true and use L2 for index build\n",
        "#     L2 distance: norm -> false and use L2 for index build\n",
        "\n",
        "f = open('quan_doc_vectors.bin', 'rb')\n",
        "r = struct.unpack('i', f.read(4))[0]\n",
        "c = struct.unpack('i', f.read(4))[0]\n",
        "quan_x = np.frombuffer(f.read(r*c), dtype=np.uint8).reshape((r,c))\n",
        "print (quan_x.shape)"
      ]
    },
    {
      "cell_type": "code",
      "execution_count": 13,
      "metadata": {},
      "outputs": [
        {
          "data": {
            "text/plain": [
              "['deletes.bin',\n",
              " 'graph.bin',\n",
              " 'indexloader.ini',\n",
              " 'metadata.bin',\n",
              " 'metadataIndex.bin',\n",
              " 'quantizer.bin',\n",
              " 'tree.bin',\n",
              " 'vectors.bin']"
            ]
          },
          "execution_count": 13,
          "metadata": {},
          "output_type": "execute_result"
        }
      ],
      "source": [
        "import SPTAG\n",
        "\n",
        "index = SPTAG.AnnIndex('BKT', 'UInt8', int(vector_dimension / 2))\n",
        "\n",
        "# Set the thread number to speed up the build procedure in parallel \n",
        "index.SetBuildParam(\"NumberOfThreads\", '4', \"Index\")\n",
        "\n",
        "# Set the distance type. Currently SPTAG only support Cosine and L2 distances. Here Cosine distance is not the Cosine similarity. The smaller Cosine distance it is, the better.\n",
        "index.SetBuildParam(\"DistCalcMethod\", 'L2', \"Index\") \n",
        "\n",
        "if index.LoadQuantizer(\"quantizer.bin\") and index.BuildWithMetaData(quan_x, m, vector_number, False, False):\n",
        "    index.Save(\"quan_sptag_index\") # Save the index to the disk\n",
        "\n",
        "os.listdir('quan_sptag_index')"
      ]
    },
    {
      "cell_type": "code",
      "execution_count": 14,
      "metadata": {},
      "outputs": [
        {
          "name": "stdout",
          "output_type": "stream",
          "text": [
            "[676, 260, 701, 263, 285, 479, 520, 753, 764, 795, 890, 185, 607, 9, 137, 295, 398, 561, 569, 801, 846, 291, 89, 159]\n",
            "[0.10097091645002365, 4.623202303216714e+19, 4.623202303216714e+19, 2.58399095169963e+20, 2.58399095169963e+20, 2.58399095169963e+20, 2.58399095169963e+20, 2.58399095169963e+20, 2.58399095169963e+20, 2.58399095169963e+20, 2.58399095169963e+20, 1.7926470230357202e+22, 1.7926470230357202e+22, 6.847471932557632e+22, 6.847471932557632e+22, 6.847471932557632e+22, 6.847471932557632e+22, 6.847471932557632e+22, 6.847471932557632e+22, 6.847471932557632e+22, 6.847471932557632e+22, 6.858322905499818e+22, 6.8608197011332326e+22, 6.8608197011332326e+22]\n",
            "[b'676\\n', b'260\\n', b'701\\n', b'263\\n', b'285\\n', b'479\\n', b'520\\n', b'753\\n', b'764\\n', b'795\\n', b'890\\n', b'185\\n', b'607\\n', b'9\\n', b'137\\n', b'295\\n', b'398\\n', b'561\\n', b'569\\n', b'801\\n', b'846\\n', b'291\\n', b'89\\n', b'159\\n']\n"
          ]
        }
      ],
      "source": [
        "# Local index test on the vector search\n",
        "index = SPTAG.AnnIndex.Load('quan_sptag_index')\n",
        "index.SetQuantizerADC(True)\n",
        "result = index.SearchWithMetaData(q, 12) # Search k=3 nearest vectors for query vector q\n",
        "print (result[0]) # nearest k vector ids\n",
        "print (result[1]) # nearest k vector distances\n",
        "print (result[2]) # nearest k vector metadatas"
      ]
    },
    {
      "cell_type": "markdown",
      "metadata": {},
      "source": [
        "## Online serve the index\n",
        "\n",
        "Start the vector search service on the host machine which listens for the client requests on the port 8000\n",
        "\n",
        "> Write a server configuration file **service.ini** as follows:\n",
        "\n",
        "```bash\n",
        "[Service]\n",
        "ListenAddr=0.0.0.0\n",
        "ListenPort=8000\n",
        "ThreadNumber=8\n",
        "SocketThreadNumber=8\n",
        "\n",
        "[QueryConfig]\n",
        "DefaultMaxResultNumber=6\n",
        "DefaultSeparator=|\n",
        "\n",
        "[Index]\n",
        "List=MyIndex\n",
        "\n",
        "[Index_MyIndex]\n",
        "IndexFolder=sptag_index\n",
        "```\n",
        "\n",
        "> Start the server on the host machine\n",
        "\n",
        "```bash\n",
        "Server.exe -m socket -c service.ini\n",
        "```\n",
        "\n",
        "It will print the follow messages:\n",
        "\n",
        "```bash\n",
        "Setting TreeFilePath with value tree.bin\n",
        "Setting GraphFilePath with value graph.bin\n",
        "Setting VectorFilePath with value vectors.bin\n",
        "Setting DeleteVectorFilePath with value deletes.bin\n",
        "Setting BKTNumber with value 1\n",
        "Setting BKTKmeansK with value 32\n",
        "Setting BKTLeafSize with value 8\n",
        "Setting Samples with value 1000\n",
        "Setting TPTNumber with value 32\n",
        "Setting TPTLeafSize with value 2000\n",
        "Setting NumTopDimensionTpTreeSplit with value 5\n",
        "Setting NeighborhoodSize with value 32\n",
        "Setting GraphNeighborhoodScale with value 2\n",
        "Setting GraphCEFScale with value 2\n",
        "Setting RefineIterations with value 2\n",
        "Setting CEF with value 1000\n",
        "Setting MaxCheckForRefineGraph with value 8192\n",
        "Setting NumberOfThreads with value 4\n",
        "Setting DistCalcMethod with value Cosine\n",
        "Setting DeletePercentageForRefine with value 0.400000\n",
        "Setting AddCountForRebuild with value 1000\n",
        "Setting MaxCheck with value 8192\n",
        "Setting ThresholdOfNumberOfContinuousNoBetterPropagation with value 3\n",
        "Setting NumberOfInitialDynamicPivots with value 50\n",
        "Setting NumberOfOtherDynamicPivots with value 4\n",
        "Load Vector From sptag_index\\vectors.bin\n",
        "Load Vector (100, 10) Finish!\n",
        "Load BKT From sptag_index\\tree.bin\n",
        "Load BKT (1,101) Finish!\n",
        "Load Graph From sptag_index\\graph.bin\n",
        "Load Graph (100, 32) Finish!\n",
        "Load DeleteID From sptag_index\\deletes.bin\n",
        "Load DeleteID (100, 1) Finish!\n",
        "Start to listen 0.0.0.0:8000 ...\n",
        "```\n",
        "\n",
        "> Start python client to connect to the server and send vector search request."
      ]
    },
    {
      "cell_type": "code",
      "execution_count": 4,
      "metadata": {},
      "outputs": [
        {
          "name": "stdout",
          "output_type": "stream",
          "text": [
            "[15, 35, 75]\n",
            "[-1.094923973083496, -1.0913333892822266, -1.0795197486877441]\n",
            "['15\\n', '35\\n', '75\\n']\n"
          ]
        }
      ],
      "source": [
        "import SPTAGClient\n",
        "import time\n",
        "\n",
        "# connect to the server\n",
        "client = SPTAGClient.AnnClient('127.0.0.1', '8000')\n",
        "while not client.IsConnected():\n",
        "    time.sleep(1)\n",
        "client.SetTimeoutMilliseconds(18000)\n",
        "\n",
        "k = 3\n",
        "vector_dimension = 10\n",
        "# prepare query vector\n",
        "q = np.random.rand(vector_dimension).astype(np.float32)\n",
        "\n",
        "result = client.Search(q, k, 'Float', True) # AnnClient.Search(query_vector, knn, data_type, with_metadata)\n",
        "\n",
        "print (result[0]) # nearest k vector ids\n",
        "print (result[1]) # nearest k vector distances\n",
        "print (result[2]) # nearest k vector metadatas\n",
        "\n"
      ]
    }
  ],
  "metadata": {
    "file_extension": ".py",
    "interpreter": {
      "hash": "955b5dbf1c9568fcdca6427b82ed9dd3b5652756bab72d537c2112a7dd2607f3"
    },
    "kernelspec": {
      "display_name": "Python 3.10.1 64-bit",
      "language": "python",
      "name": "python3"
    },
    "language_info": {
      "codemirror_mode": {
        "name": "ipython",
        "version": 3
      },
      "file_extension": ".py",
      "mimetype": "text/x-python",
      "name": "python",
      "nbconvert_exporter": "python",
      "pygments_lexer": "ipython3",
      "version": "3.9.12"
    },
    "mimetype": "text/x-python",
    "name": "python",
    "npconvert_exporter": "python",
    "orig_nbformat": 2,
    "pygments_lexer": "ipython2",
    "version": 2
  },
  "nbformat": 4,
  "nbformat_minor": 2
}
