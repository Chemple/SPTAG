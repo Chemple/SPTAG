{
 "cells": [
  {
   "cell_type": "markdown",
   "metadata": {},
   "source": [
    "# SPTAG python wrapper tutorial \n",
    "\n",
    "To end-to-end build a vector search online service, it contains two steps:\n",
    "- Offline build SPTAG index for database vectors\n",
    "- Online serve the index to support vector search requests from the clients\n",
    "\n",
    "## Offline build SPTAG index\n",
    "\n",
    "> Prepare input vectors and metadatas for SPTAG"
   ]
  },
  {
   "cell_type": "code",
   "execution_count": 1,
   "metadata": {},
   "outputs": [],
   "source": [
    "import os\n",
    "import shutil\n",
    "import numpy as np\n",
    "\n",
    "vector_number = 1000\n",
    "vector_dimension = 100\n",
    "\n",
    "# Randomly generate the database vectors. Currently SPTAG only support int8, int16 and float32 data type.\n",
    "x = np.random.rand(vector_number, vector_dimension).astype(np.float32) \n",
    "\n",
    "# Prepare metadata for each vectors, separate them by '\\n'. Currently SPTAG python wrapper only support '\\n' as the separator\n",
    "m = ''\n",
    "for i in range(vector_number):\n",
    "    m += str(i) + '\\n'"
   ]
  },
  {
   "cell_type": "markdown",
   "metadata": {},
   "source": [
    "> Build SPTAG index for database vectors **x**"
   ]
  },
  {
   "cell_type": "code",
   "execution_count": 2,
   "metadata": {},
   "outputs": [
    {
     "data": {
      "text/plain": [
       "['deletes.bin',\n",
       " 'graph.bin',\n",
       " 'indexloader.ini',\n",
       " 'metadata.bin',\n",
       " 'metadataIndex.bin',\n",
       " 'tree.bin',\n",
       " 'vectors.bin']"
      ]
     },
     "execution_count": 2,
     "metadata": {},
     "output_type": "execute_result"
    }
   ],
   "source": [
    "import SPTAG\n",
    "\n",
    "index = SPTAG.AnnIndex('BKT', 'Float', vector_dimension)\n",
    "\n",
    "# Set the thread number to speed up the build procedure in parallel \n",
    "index.SetBuildParam(\"NumberOfThreads\", '4', \"Index\")\n",
    "\n",
    "# Set the distance type. Currently SPTAG only support Cosine and L2 distances. Here Cosine distance is not the Cosine similarity. The smaller Cosine distance it is, the better.\n",
    "index.SetBuildParam(\"DistCalcMethod\", 'Cosine', \"Index\") \n",
    "\n",
    "if (os.path.exists(\"sptag_index\")):\n",
    "    shutil.rmtree(\"sptag_index\")\n",
    "if index.BuildWithMetaData(x, m, vector_number, False, False):\n",
    "    index.Save(\"sptag_index\") # Save the index to the disk\n",
    "\n",
    "os.listdir('sptag_index')"
   ]
  },
  {
   "cell_type": "code",
   "execution_count": 3,
   "metadata": {},
   "outputs": [
    {
     "name": "stdout",
     "output_type": "stream",
     "text": [
      "[212, 971, 452, 11, 676, 775, 198, 59, 725, 88]\n",
      "[-3.4250330924987793, -3.3723602294921875, -3.367603302001953, -3.3367791175842285, -3.328291893005371, -3.3269476890563965, -3.29298734664917, -3.2913594245910645, -3.2661046981811523, -3.2608399391174316]\n",
      "[b'212\\n', b'971\\n', b'452\\n', b'11\\n', b'676\\n', b'775\\n', b'198\\n', b'59\\n', b'725\\n', b'88\\n']\n"
     ]
    }
   ],
   "source": [
    "# Local index test on the vector search\n",
    "index = SPTAG.AnnIndex.Load('sptag_index')\n",
    "\n",
    "# prepare query vector\n",
    "q = np.random.rand(vector_dimension).astype(np.float32)\n",
    "\n",
    "result = index.SearchWithMetaData(q, 10) # Search k=3 nearest vectors for query vector q\n",
    "print (result[0]) # nearest k vector ids\n",
    "print (result[1]) # nearest k vector distances\n",
    "print (result[2]) # nearest k vector metadatas"
   ]
  },
  {
   "cell_type": "markdown",
   "metadata": {},
   "source": [
    "> Build SPTAG index for database vector **x** with PQ quantization"
   ]
  },
  {
   "cell_type": "code",
   "execution_count": 4,
   "metadata": {},
   "outputs": [
    {
     "name": "stdout",
     "output_type": "stream",
     "text": [
      "CompletedProcess(args='Quantizer.exe -d 100 -v Float -f DEFAULT -i sptag_index\\\\vectors.bin -o quan_doc_vectors.bin -oq quantizer.bin -qt PQQuantizer -qd 50 -ts 1000 -norm true', returncode=0)\n",
      "(1000, 50)\n"
     ]
    }
   ],
   "source": [
    "import subprocess\n",
    "import struct\n",
    "import numpy as np\n",
    "\n",
    "if (os.path.exists(\"quantizer.bin\")):\n",
    "    os.remove(\"quantizer.bin\")\n",
    "if (os.path.exists(\"quan_doc_vectors.bin\")):\n",
    "    os.remove(\"quan_doc_vectors.bin\")\n",
    "cmd = \"Quantizer.exe -d %d -v Float -f DEFAULT -i sptag_index\\\\vectors.bin -o quan_doc_vectors.bin -oq quantizer.bin -qt PQQuantizer -qd %d -ts %d -norm true\" % (vector_dimension, int(vector_dimension / 2), vector_number)\n",
    "result = subprocess.run(cmd)\n",
    "print (result) \n",
    "# For SPTAG index with quantization:\n",
    "#     Cosine distance: norm -> true and use L2 for index build\n",
    "#     L2 distance: norm -> false and use L2 for index build\n",
    "\n",
    "f = open('quan_doc_vectors.bin', 'rb')\n",
    "r = struct.unpack('i', f.read(4))[0]\n",
    "c = struct.unpack('i', f.read(4))[0]\n",
    "quan_x = np.frombuffer(f.read(r*c), dtype=np.uint8).reshape((r,c))\n",
    "f.close()\n",
    "print (quan_x.shape)"
   ]
  },
  {
   "cell_type": "code",
   "execution_count": 5,
   "metadata": {},
   "outputs": [
    {
     "data": {
      "text/plain": [
       "['deletes.bin',\n",
       " 'graph.bin',\n",
       " 'indexloader.ini',\n",
       " 'metadata.bin',\n",
       " 'metadataIndex.bin',\n",
       " 'quantizer.bin',\n",
       " 'tree.bin',\n",
       " 'vectors.bin']"
      ]
     },
     "execution_count": 5,
     "metadata": {},
     "output_type": "execute_result"
    }
   ],
   "source": [
    "import SPTAG\n",
    "\n",
    "index = SPTAG.AnnIndex('BKT', 'UInt8', int(vector_dimension / 2))\n",
    "\n",
    "# Set the thread number to speed up the build procedure in parallel \n",
    "index.SetBuildParam(\"NumberOfThreads\", '4', \"Index\")\n",
    "\n",
    "# Set the distance type. Currently SPTAG only support Cosine and L2 distances. Here Cosine distance is not the Cosine similarity. The smaller Cosine distance it is, the better.\n",
    "index.SetBuildParam(\"DistCalcMethod\", 'L2', \"Index\") \n",
    "\n",
    "if (os.path.exists(\"quan_sptag_index\")):\n",
    "    shutil.rmtree(\"quan_sptag_index\")\n",
    "if index.LoadQuantizer(\"quantizer.bin\") and index.BuildWithMetaData(quan_x, m, vector_number, False, False):\n",
    "    index.Save(\"quan_sptag_index\") # Save the index to the disk\n",
    "\n",
    "os.listdir('quan_sptag_index')"
   ]
  },
  {
   "cell_type": "code",
   "execution_count": 6,
   "metadata": {},
   "outputs": [
    {
     "name": "stdout",
     "output_type": "stream",
     "text": [
      "[212, 971, 452, 11, 676, 775, 59, 198, 88, 725, 982, 31]\n",
      "[20.571788787841797, 20.634227752685547, 20.68839454650879, 20.723995208740234, 20.774425506591797, 20.77964973449707, 20.844385147094727, 20.855073928833008, 20.871915817260742, 20.888141632080078, 20.89950942993164, 20.90561294555664]\n",
      "[b'212\\n', b'971\\n', b'452\\n', b'11\\n', b'676\\n', b'775\\n', b'59\\n', b'198\\n', b'88\\n', b'725\\n', b'982\\n', b'31\\n']\n"
     ]
    }
   ],
   "source": [
    "# Local index test on the vector search\n",
    "index = SPTAG.AnnIndex.Load('quan_sptag_index')\n",
    "index.SetQuantizerADC(True)\n",
    "result = index.SearchWithMetaData(q, 12) # Search k=3 nearest vectors for query vector q\n",
    "print (result[0]) # nearest k vector ids\n",
    "print (result[1]) # nearest k vector distances\n",
    "print (result[2]) # nearest k vector metadatas"
   ]
  },
  {
   "cell_type": "code",
   "execution_count": 7,
   "metadata": {},
   "outputs": [
    {
     "data": {
      "text/plain": [
       "['HeadIndex',\n",
       " 'indexloader.ini',\n",
       " 'metadata.bin',\n",
       " 'metadataIndex.bin',\n",
       " 'SPTAGFullList.bin',\n",
       " 'SPTAGHeadVectorIDs.bin',\n",
       " 'SPTAGHeadVectors.bin']"
      ]
     },
     "execution_count": 7,
     "metadata": {},
     "output_type": "execute_result"
    }
   ],
   "source": [
    "index = SPTAG.AnnIndex('SPANN', 'Float', vector_dimension)\n",
    "\n",
    "# Set the thread number to speed up the build procedure in parallel \n",
    "index.SetBuildParam(\"IndexAlgoType\", \"BKT\", \"Base\")\n",
    "index.SetBuildParam(\"IndexDirectory\", \"spann_index\", \"Base\")\n",
    "index.SetBuildParam(\"DistCalcMethod\", \"L2\", \"Base\")\n",
    "\n",
    "index.SetBuildParam(\"isExecute\", \"true\", \"SelectHead\")\n",
    "index.SetBuildParam(\"NumberOfThreads\", \"4\", \"SelectHead\")\n",
    "index.SetBuildParam(\"Ratio\", \"0.2\", \"SelectHead\") # index.SetBuildParam(\"Count\", \"200\", \"SelectHead\")\n",
    "\n",
    "index.SetBuildParam(\"isExecute\", \"true\", \"BuildHead\")\n",
    "index.SetBuildParam(\"RefineIterations\", \"3\", \"BuildHead\")\n",
    "index.SetBuildParam(\"NumberOfThreads\", \"4\", \"BuildHead\")\n",
    "\n",
    "index.SetBuildParam(\"isExecute\", \"true\", \"BuildSSDIndex\")\n",
    "index.SetBuildParam(\"BuildSsdIndex\", \"true\", \"BuildSSDIndex\")\n",
    "index.SetBuildParam(\"PostingPageLimit\", \"12\", \"BuildSSDIndex\")\n",
    "index.SetBuildParam(\"SearchPostingPageLimit\", \"12\", \"BuildSSDIndex\")\n",
    "index.SetBuildParam(\"NumberOfThreads\", \"4\", \"BuildSSDIndex\")\n",
    "index.SetBuildParam(\"InternalResultNum\", \"32\", \"BuildSSDIndex\")\n",
    "index.SetBuildParam(\"SearchInternalResultNum\", \"64\", \"BuildSSDIndex\")\n",
    "\n",
    "if (os.path.exists(\"spann_index\")):\n",
    "    shutil.rmtree(\"spann_index\")\n",
    "\n",
    "if index.BuildWithMetaData(x, m, vector_number, False, False):\n",
    "    index.Save(\"spann_index\") # Save the index to the disk\n",
    "\n",
    "os.listdir('spann_index')"
   ]
  },
  {
   "cell_type": "code",
   "execution_count": 8,
   "metadata": {},
   "outputs": [
    {
     "name": "stdout",
     "output_type": "stream",
     "text": [
      "[212, 452, 828, 11, 676, 128, 89, 255, 31, 775, 88, 996]\n",
      "[10.316511154174805, 10.827749252319336, 11.287622451782227, 11.705339431762695, 11.923181533813477, 11.938390731811523, 12.085038185119629, 12.114158630371094, 12.27198314666748, 12.277106285095215, 12.501319885253906, 12.503727912902832]\n",
      "[b'212\\n', b'452\\n', b'828\\n', b'11\\n', b'676\\n', b'128\\n', b'89\\n', b'255\\n', b'31\\n', b'775\\n', b'88\\n', b'996\\n']\n"
     ]
    }
   ],
   "source": [
    "index = SPTAG.AnnIndex.Load('spann_index')\n",
    "result = index.SearchWithMetaData(q, 12) # Search k=3 nearest vectors for query vector q\n",
    "print (result[0]) # nearest k vector ids\n",
    "print (result[1]) # nearest k vector distances\n",
    "print (result[2]) # nearest k vector metadatas"
   ]
  },
  {
   "cell_type": "markdown",
   "metadata": {},
   "source": [
    "## Online serve the index\n",
    "\n",
    "Start the vector search service on the host machine which listens for the client requests on the port 8000\n",
    "\n",
    "> Write a server configuration file **service.ini** as follows:\n",
    "\n",
    "```bash\n",
    "[Service]\n",
    "ListenAddr=0.0.0.0\n",
    "ListenPort=8000\n",
    "ThreadNumber=8\n",
    "SocketThreadNumber=8\n",
    "\n",
    "[QueryConfig]\n",
    "DefaultMaxResultNumber=6\n",
    "DefaultSeparator=|\n",
    "\n",
    "[Index]\n",
    "List=MyIndex\n",
    "\n",
    "[Index_MyIndex]\n",
    "IndexFolder=sptag_index\n",
    "```\n",
    "\n",
    "> Start the server on the host machine\n",
    "\n",
    "```bash\n",
    "Server.exe -m socket -c service.ini\n",
    "```\n",
    "\n",
    "It will print the follow messages:\n",
    "\n",
    "```bash\n",
    "Setting TreeFilePath with value tree.bin\n",
    "Setting GraphFilePath with value graph.bin\n",
    "Setting VectorFilePath with value vectors.bin\n",
    "Setting DeleteVectorFilePath with value deletes.bin\n",
    "Setting BKTNumber with value 1\n",
    "Setting BKTKmeansK with value 32\n",
    "Setting BKTLeafSize with value 8\n",
    "Setting Samples with value 1000\n",
    "Setting TPTNumber with value 32\n",
    "Setting TPTLeafSize with value 2000\n",
    "Setting NumTopDimensionTpTreeSplit with value 5\n",
    "Setting NeighborhoodSize with value 32\n",
    "Setting GraphNeighborhoodScale with value 2\n",
    "Setting GraphCEFScale with value 2\n",
    "Setting RefineIterations with value 2\n",
    "Setting CEF with value 1000\n",
    "Setting MaxCheckForRefineGraph with value 8192\n",
    "Setting NumberOfThreads with value 4\n",
    "Setting DistCalcMethod with value Cosine\n",
    "Setting DeletePercentageForRefine with value 0.400000\n",
    "Setting AddCountForRebuild with value 1000\n",
    "Setting MaxCheck with value 8192\n",
    "Setting ThresholdOfNumberOfContinuousNoBetterPropagation with value 3\n",
    "Setting NumberOfInitialDynamicPivots with value 50\n",
    "Setting NumberOfOtherDynamicPivots with value 4\n",
    "Load Vector From sptag_index\\vectors.bin\n",
    "Load Vector (100, 10) Finish!\n",
    "Load BKT From sptag_index\\tree.bin\n",
    "Load BKT (1,101) Finish!\n",
    "Load Graph From sptag_index\\graph.bin\n",
    "Load Graph (100, 32) Finish!\n",
    "Load DeleteID From sptag_index\\deletes.bin\n",
    "Load DeleteID (100, 1) Finish!\n",
    "Start to listen 0.0.0.0:8000 ...\n",
    "```\n",
    "\n",
    "> Start python client to connect to the server and send vector search request."
   ]
  },
  {
   "cell_type": "code",
   "execution_count": null,
   "metadata": {},
   "outputs": [],
   "source": [
    "import SPTAGClient\n",
    "import time\n",
    "\n",
    "# connect to the server\n",
    "client = SPTAGClient.AnnClient('127.0.0.1', '8000')\n",
    "while not client.IsConnected():\n",
    "    time.sleep(1)\n",
    "client.SetTimeoutMilliseconds(18000)\n",
    "\n",
    "k = 3\n",
    "vector_dimension = 10\n",
    "# prepare query vector\n",
    "q = np.random.rand(vector_dimension).astype(np.float32)\n",
    "\n",
    "result = client.Search(q, k, 'Float', True) # AnnClient.Search(query_vector, knn, data_type, with_metadata)\n",
    "\n",
    "print (result[0]) # nearest k vector ids\n",
    "print (result[1]) # nearest k vector distances\n",
    "print (result[2]) # nearest k vector metadatas\n",
    "\n"
   ]
  }
 ],
 "metadata": {
  "file_extension": ".py",
  "kernelspec": {
   "display_name": "Python 3.9.12 64-bit",
   "language": "python",
   "name": "python3"
  },
  "language_info": {
   "codemirror_mode": {
    "name": "ipython",
    "version": 3
   },
   "file_extension": ".py",
   "mimetype": "text/x-python",
   "name": "python",
   "nbconvert_exporter": "python",
   "pygments_lexer": "ipython3",
   "version": "3.9.12"
  },
  "mimetype": "text/x-python",
  "name": "python",
  "npconvert_exporter": "python",
  "pygments_lexer": "ipython2",
  "version": 2,
  "vscode": {
   "interpreter": {
    "hash": "81794d4967e6c3204c66dcd87b604927b115b27c00565d3d43f05ba2f3a2cb0d"
   }
  }
 },
 "nbformat": 4,
 "nbformat_minor": 2
}
